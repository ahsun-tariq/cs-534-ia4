{
 "cells": [
  {
   "cell_type": "markdown",
   "id": "02a778c7",
   "metadata": {
    "toc": true
   },
   "source": [
    "<h1>Table of Contents<span class=\"tocSkip\"></span></h1>\n",
    "<div class=\"toc\"><ul class=\"toc-item\"></ul></div>"
   ]
  },
  {
   "cell_type": "code",
   "execution_count": 108,
   "id": "ef3920f1",
   "metadata": {},
   "outputs": [
    {
     "name": "stderr",
     "output_type": "stream",
     "text": [
      "[nltk_data] Downloading package stopwords to\n",
      "[nltk_data]     /Users/ivanmakarov/nltk_data...\n",
      "[nltk_data]   Package stopwords is already up-to-date!\n"
     ]
    }
   ],
   "source": [
    "import pandas as pd\n",
    "import numpy as np\n",
    "import sklearn\n",
    "from sklearn.model_selection import train_test_split\n",
    "from sklearn.linear_model import LogisticRegression\n",
    "import seaborn as sns\n",
    "import matplotlib.pyplot as plt\n",
    "import statistics as st\n",
    "import datetime\n",
    "from datetime import datetime \n",
    "from nltk.corpus import stopwords as nltk_stopwords\n",
    "from sklearn.feature_extraction.text import TfidfVectorizer\n",
    "import re \n",
    "import nltk\n",
    "nltk.download('stopwords')\n",
    "#nltk.download('wordnet')\n",
    "from nltk.stem import WordNetLemmatizer \n",
    "#nltk.download('punkt')\n",
    "from sklearn.feature_extraction.text import CountVectorizer\n",
    "\n",
    "from sklearn.dummy import DummyClassifier\n",
    "from nltk.corpus import wordnet as wn\n",
    "from nltk.stem.wordnet import WordNetLemmatizer\n",
    "from nltk import word_tokenize, pos_tag\n",
    "from collections import defaultdict\n",
    "#nltk.download('averaged_perceptron_tagger')\n",
    "from sklearn.svm import LinearSVC\n",
    "import numpy\n",
    "import seaborn\n",
    "import matplotlib.pyplot as plot\n",
    "import math\n",
    "from math import log\n",
    "from sklearn.cluster import KMeans"
   ]
  },
  {
   "cell_type": "code",
   "execution_count": 3,
   "id": "9a2462af",
   "metadata": {},
   "outputs": [],
   "source": [
    "# Loads a data file from a provided file location.\n",
    "def load_data(path):\n",
    "\n",
    "    try:\n",
    "        loaded_data = pd.read_csv(path)\n",
    "        print(loaded_data)\n",
    "    except:\n",
    "        print('The required file does not exist!')    \n",
    "\n",
    "    return loaded_data"
   ]
  },
  {
   "cell_type": "code",
   "execution_count": 4,
   "id": "7cd96b51",
   "metadata": {},
   "outputs": [
    {
     "name": "stdout",
     "output_type": "stream",
     "text": [
      "      sentiment                                               text\n",
      "0             0  @united who is in charge of making decisions o...\n",
      "1             0  @united great decision making skills flight op...\n",
      "2             0  @AmericanAir so what if I didn't have the fund...\n",
      "3             0  @united My flying United is over...sorry. The ...\n",
      "4             0  @united I believe just customer service. At la...\n",
      "...         ...                                                ...\n",
      "8995          1  @SouthwestAir your flight attendants are reall...\n",
      "8996          1  @VirginAmerica Love the team running Gate E9 a...\n",
      "8997          0  @SouthwestAir really shouldn't offer sweeps if...\n",
      "8998          0  @united no HUMAN contact for 2 mths from @Amer...\n",
      "8999          1  @JetBlue Landing! As usual great flight wiyh a...\n",
      "\n",
      "[9000 rows x 2 columns]\n"
     ]
    }
   ],
   "source": [
    "train_data = load_data(\"/Users/ivanmakarov/Desktop/IA3-train.csv\")"
   ]
  },
  {
   "cell_type": "code",
   "execution_count": 5,
   "id": "25a459e4",
   "metadata": {},
   "outputs": [
    {
     "name": "stdout",
     "output_type": "stream",
     "text": [
      "      sentiment                                               text\n",
      "0             1  @JetBlue Then en route to the airport the rebo...\n",
      "1             0  @JetBlue I’m going to miss a hugely important ...\n",
      "2             0  @USAirways never flying you guys again. your c...\n",
      "3             0  @AmericanAir but, what I can always rely on wh...\n",
      "4             0  @JetBlue you really should be more proactive w...\n",
      "...         ...                                                ...\n",
      "2495          0  @united kind of unnerving to watch the guy dei...\n",
      "2496          0  @united already did that at the airport and 12...\n",
      "2497          0  @JetBlue and they are telling me I got to get ...\n",
      "2498          0  @USAirways delayed 2 days for weather and on t...\n",
      "2499          0  @SouthwestAir We've been sitting at the gate f...\n",
      "\n",
      "[2500 rows x 2 columns]\n"
     ]
    }
   ],
   "source": [
    "val_data = load_data(\"/Users/ivanmakarov/Desktop/IA3-dev.csv\")"
   ]
  },
  {
   "cell_type": "code",
   "execution_count": 6,
   "id": "9b601b3e",
   "metadata": {},
   "outputs": [],
   "source": [
    "import numpy as np\n",
    "\n",
    "# Loads GloVe embeddings from a designated file location. \n",
    "#\n",
    "# Invoked via:\n",
    "# ge = GloVe_Embedder(path_to_embeddings)\n",
    "#\n",
    "# Embed single word via:\n",
    "# embed = ge.embed_str(word)\n",
    "#\n",
    "# Embed a list of words via:\n",
    "# embeds = ge.embed_list(word_list)\n",
    "#\n",
    "# Find nearest neighbors via:\n",
    "# ge.find_k_nearest(word, k)\n",
    "#\n",
    "# Save vocabulary to file via:\n",
    "# ge.save_to_file(path_to_file)\n",
    "\n",
    "class GloVe_Embedder:\n",
    "    def __init__(self, path):\n",
    "        self.embedding_dict = {}\n",
    "        self.embedding_array = []\n",
    "        self.unk_emb = 0\n",
    "        # Adapted from https://stackoverflow.com/questions/37793118/load-pretrained-GloVe-vectors-in-python\n",
    "        with open(path,'r') as f:\n",
    "            for line in f:\n",
    "                split_line = line.split()\n",
    "                word = split_line[0]\n",
    "                embedding = np.array(split_line[1:], dtype=np.float64)\n",
    "                self.embedding_dict[word] = embedding\n",
    "                self.embedding_array.append(embedding.tolist())\n",
    "        self.embedding_array = np.array(self.embedding_array)\n",
    "        self.embedding_dim = len(self.embedding_array[0])\n",
    "        self.vocab_size = len(self.embedding_array)\n",
    "        self.unk_emb = np.zeros(self.embedding_dim)\n",
    "\n",
    "    # Check if the provided embedding is the unknown embedding.\n",
    "    def is_unk_embed(self, embed):\n",
    "        return np.sum((embed - self.unk_emb) ** 2) < 1e-7\n",
    "    \n",
    "    # Check if the provided string is in the vocabulary.\n",
    "    def token_in_vocab(self, x):\n",
    "        if x in self.embedding_dict and not self.is_unk_embed(self.embedding_dict[x]):\n",
    "            return True\n",
    "        return False\n",
    "\n",
    "    # Returns the embedding for a single string and prints a warning if\n",
    "    # the string is unknown to the vocabulary.\n",
    "    # \n",
    "    # If indicate_unk is set to True, the return type will be a tuple of \n",
    "    # (numpy array, bool) with the bool indicating whether the returned \n",
    "    # embedding is the unknown embedding.\n",
    "    #\n",
    "    # If warn_unk is set to False, the method will no longer print warnings\n",
    "    # when used on unknown strings.\n",
    "    def embed_str(self, x, indicate_unk = False, warn_unk = True):\n",
    "        if self.token_in_vocab(x):\n",
    "            if indicate_unk:\n",
    "                return (self.embedding_dict[x], False)\n",
    "            else:\n",
    "                return self.embedding_dict[x]\n",
    "        else:\n",
    "            if warn_unk:\n",
    "                    print(\"Warning: provided word is not part of the vocabulary!\")\n",
    "            if indicate_unk:\n",
    "                return (self.unk_emb, True)\n",
    "            else:\n",
    "                return self.unk_emb\n",
    "\n",
    "    # Returns an array containing the embeddings of each vocabulary token in the provided list.\n",
    "    #\n",
    "    # If include_unk is set to False, the returned list will not include any unknown embeddings.\n",
    "    def embed_list(self, x, include_unk = True):\n",
    "        if include_unk:\n",
    "            embeds = [self.embed_str(word, warn_unk = False).tolist() for word in x]\n",
    "        else:\n",
    "            embeds_with_unk = [self.embed_str(word, indicate_unk=True, warn_unk = False) for word in x]\n",
    "            embeds = [e[0].tolist() for e in embeds_with_unk if not e[1]]\n",
    "            if len(embeds) == 0:\n",
    "                print(\"No known words in input:\" + str(x))\n",
    "                embeds = [self.unk_emb.tolist()]\n",
    "        return np.array(embeds)\n",
    "    \n",
    "    # Finds the vocab words associated with the k nearest embeddings of the provided word. \n",
    "    # Can also accept an embedding vector in place of a string word.\n",
    "    # Return type is a nested list where each entry is a word in the vocab followed by its \n",
    "    # distance from whatever word was provided as an argument.\n",
    "    def find_k_nearest(self, word, k, warn_about_unks = True):\n",
    "        if type(word) == str:\n",
    "            word_embedding, is_unk = self.embed_str(word, indicate_unk = True)\n",
    "        else:\n",
    "            word_embedding = word\n",
    "            is_unk = False\n",
    "        if is_unk and warn_about_unks:\n",
    "            print(\"Warning: provided word is not part of the vocabulary!\")\n",
    "\n",
    "        all_distances = np.sum((self.embedding_array - word_embedding) ** 2, axis = 1) ** 0.5\n",
    "        distance_vocab_index = [[w, round(d, 5)] for w,d,i in zip(self.embedding_dict.keys(), all_distances, range(len(all_distances)))]\n",
    "        distance_vocab_index = sorted(distance_vocab_index, key = lambda x: x[1], reverse = False)\n",
    "        return distance_vocab_index[:k]\n",
    "\n",
    "    def save_to_file(self, path):\n",
    "        with open(path, 'w') as f:\n",
    "            for k in self.embedding_dict.keys():\n",
    "                embedding_str = \" \".join([str(round(s, 5)) for s in self.embedding_dict[k].tolist()])\n",
    "                string = k + \" \" + embedding_str\n",
    "                f.write(string + \"\\n\")"
   ]
  },
  {
   "cell_type": "code",
   "execution_count": 7,
   "id": "89c20a86",
   "metadata": {},
   "outputs": [],
   "source": [
    "ge = GloVe_Embedder(\"/Users/ivanmakarov/Desktop/GloVe_Embedder_data.txt\")"
   ]
  },
  {
   "cell_type": "code",
   "execution_count": 8,
   "id": "4650116e",
   "metadata": {},
   "outputs": [],
   "source": [
    "list_of_words = ['flight', 'good', 'terrible', 'help' , 'late']"
   ]
  },
  {
   "cell_type": "code",
   "execution_count": 9,
   "id": "49d86372",
   "metadata": {},
   "outputs": [],
   "source": [
    "embeds = ge.embed_list(list_of_words)"
   ]
  },
  {
   "cell_type": "code",
   "execution_count": 11,
   "id": "fbbc7084",
   "metadata": {},
   "outputs": [
    {
     "name": "stdout",
     "output_type": "stream",
     "text": [
      "(5, 200)\n"
     ]
    }
   ],
   "source": [
    "print(embeds.shape)"
   ]
  },
  {
   "cell_type": "code",
   "execution_count": 12,
   "id": "943ef882",
   "metadata": {},
   "outputs": [],
   "source": [
    "word = 'flight'"
   ]
  },
  {
   "cell_type": "code",
   "execution_count": 13,
   "id": "391b3681",
   "metadata": {},
   "outputs": [],
   "source": [
    "embed = ge.embed_str(word)"
   ]
  },
  {
   "cell_type": "code",
   "execution_count": 14,
   "id": "de802f23",
   "metadata": {
    "scrolled": true
   },
   "outputs": [
    {
     "data": {
      "text/plain": [
       "array([-1.6572e-01, -8.3950e-02,  2.2570e-02,  3.9720e-02,  3.0814e-01,\n",
       "        1.7639e-01,  2.8357e-01,  5.5700e-03, -9.5600e-03,  1.4846e-01,\n",
       "        4.8067e-01,  2.5237e-01, -4.3009e-01,  1.6862e-01,  1.2911e-01,\n",
       "       -5.9924e-01, -1.3999e-01,  4.9635e-01, -8.2510e-02, -2.6530e-01,\n",
       "       -2.1277e-01, -2.2453e-01,  3.0011e-01, -2.8075e-01,  5.1310e-02,\n",
       "        1.0421e+00, -6.7080e-02, -5.7052e-01,  8.7370e-02, -4.3915e-01,\n",
       "       -8.1000e-03,  5.2400e-03,  2.6832e-01, -6.5057e-01, -6.3500e-02,\n",
       "        6.0998e-01, -7.6290e-01,  1.5033e-01,  9.2465e-01,  1.2769e-01,\n",
       "       -3.1095e-01,  2.4462e-01,  9.2752e-01, -9.8065e-01,  3.0698e-01,\n",
       "       -9.4610e-01, -1.6245e-01, -2.9793e-01,  4.7237e-01,  3.2092e-01,\n",
       "       -2.7117e-01, -4.8036e-01,  1.8380e-02, -1.4158e-01, -3.4337e-01,\n",
       "        1.1486e-01,  2.1472e-01,  7.0729e-01, -2.4157e-01, -2.1553e-01,\n",
       "        3.9954e-01,  4.6465e-01,  4.1700e-01,  2.0390e-01, -3.0071e-01,\n",
       "        1.1968e-01,  2.6760e-01,  1.3740e-02,  3.3544e-01, -8.0908e-01,\n",
       "       -1.9069e-01,  2.4530e-01, -5.8880e-02, -8.7979e-01,  9.5020e-01,\n",
       "       -1.7699e-01, -2.2566e-01,  1.2184e-01,  5.2940e-01,  1.7246e-01,\n",
       "        9.9000e-03, -3.0838e-01,  8.4287e-01,  1.3554e-01, -6.7430e-02,\n",
       "       -2.9450e-01,  4.0472e-01,  2.9600e-02,  2.9183e-01,  3.7226e-01,\n",
       "        4.7130e-02, -5.7256e-01, -4.4654e-01, -4.7700e-03, -2.1558e-01,\n",
       "       -1.8263e-01,  3.7504e-01, -2.8365e-01, -6.9789e-01, -2.0536e-01,\n",
       "        1.7530e-01, -3.8883e-01, -5.7182e-01,  7.2660e-02, -4.5191e-01,\n",
       "       -3.4966e-01,  3.9976e-01, -3.3020e-02,  1.1417e-01,  1.4257e-01,\n",
       "       -1.4591e-01, -2.0860e-02, -4.2309e-01,  5.8536e-01,  2.2284e-01,\n",
       "       -8.6722e-01, -2.7132e-01, -3.7823e-01,  6.1125e-01,  7.5074e-01,\n",
       "        1.0451e+00,  2.6340e-02, -4.8420e-02, -3.3800e-03, -1.2824e-01,\n",
       "        4.0620e-01, -7.9040e-02,  3.2437e-01, -3.6623e-01,  5.5756e-01,\n",
       "        4.6780e-01, -3.9125e-01,  1.1790e-01, -1.8556e-01, -2.9150e-02,\n",
       "       -4.0442e-01,  2.2810e-02,  5.0772e-01, -5.5707e-01,  3.4720e-01,\n",
       "       -6.4770e-01, -1.7976e-01,  2.6612e-01,  4.2428e-01,  2.8665e-01,\n",
       "       -5.0214e-01,  1.3579e-01, -3.8311e-01,  2.4349e-01, -2.8351e-01,\n",
       "        1.0629e+00, -5.0060e-01, -3.3632e+00,  1.3890e-01, -2.0810e-01,\n",
       "       -5.2862e-01,  4.3106e-01, -3.3354e-01,  3.0532e-01,  2.7068e-01,\n",
       "       -2.6090e-01, -1.7400e-03, -1.4553e-01,  6.4803e-01,  5.4891e-01,\n",
       "        3.8058e-01, -7.0841e-01, -3.6602e-01, -5.9000e-04, -3.7480e-02,\n",
       "       -8.3028e-01,  2.9500e-02,  2.9061e-01, -2.2790e-01, -3.3814e-01,\n",
       "        1.1887e-01, -4.5499e-01, -1.9092e-01, -5.2580e-02,  2.6685e-01,\n",
       "        1.2333e-01, -7.8160e-02,  1.0240e-02,  6.1399e-01, -4.9180e-01,\n",
       "        4.1462e-01,  7.0913e-01,  5.3530e-02,  3.8710e-02,  1.5684e-01,\n",
       "        6.0437e-01, -3.2227e-01, -2.3730e-02,  1.2272e-01, -5.2110e-02,\n",
       "        2.1848e-01, -6.6576e-01, -2.8324e-01,  4.5505e-01,  1.4103e-01])"
      ]
     },
     "execution_count": 14,
     "metadata": {},
     "output_type": "execute_result"
    }
   ],
   "source": [
    "embed"
   ]
  },
  {
   "cell_type": "code",
   "execution_count": 20,
   "id": "14dc6747",
   "metadata": {},
   "outputs": [],
   "source": [
    "nearest_list = []\n",
    "for word in embeds:\n",
    "    nearest_list.append(ge.find_k_nearest(word, 30))"
   ]
  },
  {
   "cell_type": "code",
   "execution_count": 178,
   "id": "92153a4a",
   "metadata": {
    "scrolled": true
   },
   "outputs": [
    {
     "data": {
      "text/plain": [
       "[[['flight', 0.0],\n",
       "  ['plane', 4.45689],\n",
       "  ['flights', 5.32675],\n",
       "  ['boarding', 5.4882],\n",
       "  ['airline', 5.58355],\n",
       "  ['jet', 5.59065],\n",
       "  ['flying', 5.59299],\n",
       "  ['heading', 5.6417],\n",
       "  ['arrival', 5.70659],\n",
       "  ['airlines', 5.85213],\n",
       "  ['travel', 5.89098],\n",
       "  ['shuttle', 5.90023],\n",
       "  ['delayed', 5.91624],\n",
       "  ['landing', 5.92666],\n",
       "  ['route', 5.96298],\n",
       "  ['airplane', 6.00258],\n",
       "  ['safe', 6.00877],\n",
       "  ['booking', 6.01374],\n",
       "  ['fly', 6.02409],\n",
       "  ['departure', 6.04052],\n",
       "  ['waiting', 6.04259],\n",
       "  ['landed', 6.09697],\n",
       "  ['journey', 6.12156],\n",
       "  ['passengers', 6.12345],\n",
       "  ['transit', 6.12451],\n",
       "  ['delay', 6.13663],\n",
       "  ['crew', 6.14757],\n",
       "  ['pilot', 6.17311],\n",
       "  ['trip', 6.18669],\n",
       "  ['taxi', 6.20436]],\n",
       " [['good', 0.0],\n",
       "  ['great', 3.64107],\n",
       "  ['well', 3.96383],\n",
       "  ['nice', 4.00469],\n",
       "  ['better', 4.19665],\n",
       "  ['night', 4.30113],\n",
       "  ['bad', 4.34788],\n",
       "  ['morning', 4.43596],\n",
       "  ['way', 4.52146],\n",
       "  ['hope', 4.54451],\n",
       "  ['but', 4.55671],\n",
       "  ['too', 4.57775],\n",
       "  ['really', 4.60558],\n",
       "  ['right', 4.68877],\n",
       "  ['though', 4.69955],\n",
       "  ['there', 4.70148],\n",
       "  ['day', 4.70444],\n",
       "  ['luck', 4.7177],\n",
       "  ['sure', 4.76147],\n",
       "  ['it', 4.76949],\n",
       "  ['thing', 4.78543],\n",
       "  ['pretty', 4.81795],\n",
       "  ['think', 4.83542],\n",
       "  ['have', 4.84457],\n",
       "  ['all', 4.85276],\n",
       "  ['yes', 4.86179],\n",
       "  ['very', 4.89081],\n",
       "  ['again', 4.9018],\n",
       "  ['work', 4.90492],\n",
       "  ['yeah', 4.90592]],\n",
       " [['terrible', 0.0],\n",
       "  ['horrible', 2.8716],\n",
       "  ['awful', 4.31316],\n",
       "  ['bad', 5.24022],\n",
       "  ['brutal', 5.35858],\n",
       "  ['idea', 5.45579],\n",
       "  ['horrendous', 5.49845],\n",
       "  ['horrid', 5.56903],\n",
       "  ['shitty', 5.58304],\n",
       "  ['quite', 5.59716],\n",
       "  ['worst', 5.631],\n",
       "  ['similar', 5.64538],\n",
       "  ['shame', 5.67322],\n",
       "  ['worse', 5.71411],\n",
       "  ['crap', 5.73043],\n",
       "  ['actual', 5.73712],\n",
       "  ['horrific', 5.78009],\n",
       "  ['bloody', 5.78166],\n",
       "  ['ridiculous', 5.80851],\n",
       "  ['such', 5.82791],\n",
       "  ['atrocious', 5.86491],\n",
       "  ['dreadful', 5.87343],\n",
       "  ['sick', 5.88777],\n",
       "  ['wtf', 5.89628],\n",
       "  ['fucking', 5.9003],\n",
       "  ['cruel', 5.90768],\n",
       "  ['seriously', 5.93984],\n",
       "  ['unreal', 5.94033],\n",
       "  ['mess', 5.97906],\n",
       "  ['however', 5.98936]],\n",
       " [['help', 0.0],\n",
       "  ['need', 4.66871],\n",
       "  ['helping', 4.71355],\n",
       "  ['please', 4.8564],\n",
       "  ['pls', 5.26437],\n",
       "  ['let', 5.27073],\n",
       "  ['us', 5.33329],\n",
       "  ['give', 5.35559],\n",
       "  ['trying', 5.3827],\n",
       "  ['can', 5.39777],\n",
       "  ['helps', 5.40568],\n",
       "  ['must', 5.42209],\n",
       "  ['tell', 5.54717],\n",
       "  ['find', 5.55147],\n",
       "  ['could', 5.5624],\n",
       "  ['plz', 5.58522],\n",
       "  ['helped', 5.62169],\n",
       "  ['support', 5.6628],\n",
       "  ['anyone', 5.68027],\n",
       "  ['should', 5.74155],\n",
       "  ['save', 5.74649],\n",
       "  ['take', 5.75843],\n",
       "  ['want', 5.76772],\n",
       "  ['bring', 5.79499],\n",
       "  ['maybe', 5.80615],\n",
       "  ['lets', 5.81187],\n",
       "  ['seriously', 5.81942],\n",
       "  ['able', 5.81981],\n",
       "  ['here', 5.82526],\n",
       "  ['needs', 5.84511]],\n",
       " [['late', 0.0],\n",
       "  ['early', 4.00205],\n",
       "  ['earlier', 5.09402],\n",
       "  ['usual', 5.10465],\n",
       "  ['after', 5.28243],\n",
       "  ['again', 5.28409],\n",
       "  ['saturday', 5.29169],\n",
       "  ['afternoon', 5.30979],\n",
       "  ['hour', 5.31787],\n",
       "  ['guess', 5.33142],\n",
       "  ['missed', 5.36901],\n",
       "  ['work', 5.37432],\n",
       "  ['hours', 5.38573],\n",
       "  ['sunday', 5.40189],\n",
       "  ['since', 5.41431],\n",
       "  ['night', 5.41858],\n",
       "  ['anyway', 5.45233],\n",
       "  ['yesterday', 5.49731],\n",
       "  ['last', 5.49978],\n",
       "  ['maybe', 5.50156],\n",
       "  ['yet', 5.51821],\n",
       "  ['monday', 5.53958],\n",
       "  ['wait', 5.55033],\n",
       "  ['either', 5.55333],\n",
       "  ['mins', 5.56436],\n",
       "  ['wake', 5.59768],\n",
       "  ['before', 5.60765],\n",
       "  ['thursday', 5.61733],\n",
       "  ['hopefully', 5.63757],\n",
       "  ['friday', 5.65562]]]"
      ]
     },
     "execution_count": 178,
     "metadata": {},
     "output_type": "execute_result"
    }
   ],
   "source": [
    "nearest_list"
   ]
  },
  {
   "cell_type": "code",
   "execution_count": 181,
   "id": "9cfc4eeb",
   "metadata": {},
   "outputs": [
    {
     "data": {
      "text/plain": [
       "5"
      ]
     },
     "execution_count": 181,
     "metadata": {},
     "output_type": "execute_result"
    }
   ],
   "source": [
    "len(nearest_list)"
   ]
  },
  {
   "cell_type": "code",
   "execution_count": 182,
   "id": "ecae9f0b",
   "metadata": {},
   "outputs": [],
   "source": [
    "nearest_array = np.asarray(nearest_list)"
   ]
  },
  {
   "cell_type": "code",
   "execution_count": 185,
   "id": "19c295bd",
   "metadata": {},
   "outputs": [
    {
     "data": {
      "text/plain": [
       "array([[['flight', '0.0'],\n",
       "        ['plane', '4.45689'],\n",
       "        ['flights', '5.32675'],\n",
       "        ['boarding', '5.4882'],\n",
       "        ['airline', '5.58355'],\n",
       "        ['jet', '5.59065'],\n",
       "        ['flying', '5.59299'],\n",
       "        ['heading', '5.6417'],\n",
       "        ['arrival', '5.70659'],\n",
       "        ['airlines', '5.85213'],\n",
       "        ['travel', '5.89098'],\n",
       "        ['shuttle', '5.90023'],\n",
       "        ['delayed', '5.91624'],\n",
       "        ['landing', '5.92666'],\n",
       "        ['route', '5.96298'],\n",
       "        ['airplane', '6.00258'],\n",
       "        ['safe', '6.00877'],\n",
       "        ['booking', '6.01374'],\n",
       "        ['fly', '6.02409'],\n",
       "        ['departure', '6.04052'],\n",
       "        ['waiting', '6.04259'],\n",
       "        ['landed', '6.09697'],\n",
       "        ['journey', '6.12156'],\n",
       "        ['passengers', '6.12345'],\n",
       "        ['transit', '6.12451'],\n",
       "        ['delay', '6.13663'],\n",
       "        ['crew', '6.14757'],\n",
       "        ['pilot', '6.17311'],\n",
       "        ['trip', '6.18669'],\n",
       "        ['taxi', '6.20436']],\n",
       "\n",
       "       [['good', '0.0'],\n",
       "        ['great', '3.64107'],\n",
       "        ['well', '3.96383'],\n",
       "        ['nice', '4.00469'],\n",
       "        ['better', '4.19665'],\n",
       "        ['night', '4.30113'],\n",
       "        ['bad', '4.34788'],\n",
       "        ['morning', '4.43596'],\n",
       "        ['way', '4.52146'],\n",
       "        ['hope', '4.54451'],\n",
       "        ['but', '4.55671'],\n",
       "        ['too', '4.57775'],\n",
       "        ['really', '4.60558'],\n",
       "        ['right', '4.68877'],\n",
       "        ['though', '4.69955'],\n",
       "        ['there', '4.70148'],\n",
       "        ['day', '4.70444'],\n",
       "        ['luck', '4.7177'],\n",
       "        ['sure', '4.76147'],\n",
       "        ['it', '4.76949'],\n",
       "        ['thing', '4.78543'],\n",
       "        ['pretty', '4.81795'],\n",
       "        ['think', '4.83542'],\n",
       "        ['have', '4.84457'],\n",
       "        ['all', '4.85276'],\n",
       "        ['yes', '4.86179'],\n",
       "        ['very', '4.89081'],\n",
       "        ['again', '4.9018'],\n",
       "        ['work', '4.90492'],\n",
       "        ['yeah', '4.90592']],\n",
       "\n",
       "       [['terrible', '0.0'],\n",
       "        ['horrible', '2.8716'],\n",
       "        ['awful', '4.31316'],\n",
       "        ['bad', '5.24022'],\n",
       "        ['brutal', '5.35858'],\n",
       "        ['idea', '5.45579'],\n",
       "        ['horrendous', '5.49845'],\n",
       "        ['horrid', '5.56903'],\n",
       "        ['shitty', '5.58304'],\n",
       "        ['quite', '5.59716'],\n",
       "        ['worst', '5.631'],\n",
       "        ['similar', '5.64538'],\n",
       "        ['shame', '5.67322'],\n",
       "        ['worse', '5.71411'],\n",
       "        ['crap', '5.73043'],\n",
       "        ['actual', '5.73712'],\n",
       "        ['horrific', '5.78009'],\n",
       "        ['bloody', '5.78166'],\n",
       "        ['ridiculous', '5.80851'],\n",
       "        ['such', '5.82791'],\n",
       "        ['atrocious', '5.86491'],\n",
       "        ['dreadful', '5.87343'],\n",
       "        ['sick', '5.88777'],\n",
       "        ['wtf', '5.89628'],\n",
       "        ['fucking', '5.9003'],\n",
       "        ['cruel', '5.90768'],\n",
       "        ['seriously', '5.93984'],\n",
       "        ['unreal', '5.94033'],\n",
       "        ['mess', '5.97906'],\n",
       "        ['however', '5.98936']],\n",
       "\n",
       "       [['help', '0.0'],\n",
       "        ['need', '4.66871'],\n",
       "        ['helping', '4.71355'],\n",
       "        ['please', '4.8564'],\n",
       "        ['pls', '5.26437'],\n",
       "        ['let', '5.27073'],\n",
       "        ['us', '5.33329'],\n",
       "        ['give', '5.35559'],\n",
       "        ['trying', '5.3827'],\n",
       "        ['can', '5.39777'],\n",
       "        ['helps', '5.40568'],\n",
       "        ['must', '5.42209'],\n",
       "        ['tell', '5.54717'],\n",
       "        ['find', '5.55147'],\n",
       "        ['could', '5.5624'],\n",
       "        ['plz', '5.58522'],\n",
       "        ['helped', '5.62169'],\n",
       "        ['support', '5.6628'],\n",
       "        ['anyone', '5.68027'],\n",
       "        ['should', '5.74155'],\n",
       "        ['save', '5.74649'],\n",
       "        ['take', '5.75843'],\n",
       "        ['want', '5.76772'],\n",
       "        ['bring', '5.79499'],\n",
       "        ['maybe', '5.80615'],\n",
       "        ['lets', '5.81187'],\n",
       "        ['seriously', '5.81942'],\n",
       "        ['able', '5.81981'],\n",
       "        ['here', '5.82526'],\n",
       "        ['needs', '5.84511']],\n",
       "\n",
       "       [['late', '0.0'],\n",
       "        ['early', '4.00205'],\n",
       "        ['earlier', '5.09402'],\n",
       "        ['usual', '5.10465'],\n",
       "        ['after', '5.28243'],\n",
       "        ['again', '5.28409'],\n",
       "        ['saturday', '5.29169'],\n",
       "        ['afternoon', '5.30979'],\n",
       "        ['hour', '5.31787'],\n",
       "        ['guess', '5.33142'],\n",
       "        ['missed', '5.36901'],\n",
       "        ['work', '5.37432'],\n",
       "        ['hours', '5.38573'],\n",
       "        ['sunday', '5.40189'],\n",
       "        ['since', '5.41431'],\n",
       "        ['night', '5.41858'],\n",
       "        ['anyway', '5.45233'],\n",
       "        ['yesterday', '5.49731'],\n",
       "        ['last', '5.49978'],\n",
       "        ['maybe', '5.50156'],\n",
       "        ['yet', '5.51821'],\n",
       "        ['monday', '5.53958'],\n",
       "        ['wait', '5.55033'],\n",
       "        ['either', '5.55333'],\n",
       "        ['mins', '5.56436'],\n",
       "        ['wake', '5.59768'],\n",
       "        ['before', '5.60765'],\n",
       "        ['thursday', '5.61733'],\n",
       "        ['hopefully', '5.63757'],\n",
       "        ['friday', '5.65562']]], dtype='<U32')"
      ]
     },
     "execution_count": 185,
     "metadata": {},
     "output_type": "execute_result"
    }
   ],
   "source": [
    "nearest_array"
   ]
  },
  {
   "cell_type": "code",
   "execution_count": 187,
   "id": "396eae92",
   "metadata": {},
   "outputs": [],
   "source": [
    "nearest_array = nearest_array.flatten()"
   ]
  },
  {
   "cell_type": "code",
   "execution_count": 188,
   "id": "088dfeae",
   "metadata": {},
   "outputs": [],
   "source": [
    "filtered_list = list(filter(lambda x: (x.isalpha()), nearest_array))"
   ]
  },
  {
   "cell_type": "code",
   "execution_count": 198,
   "id": "065f6935",
   "metadata": {},
   "outputs": [],
   "source": [
    "filtered_list_of_numbers = [float(x) for x in list(filter(lambda x: (not x.isalpha()), nearest_array))]"
   ]
  },
  {
   "cell_type": "code",
   "execution_count": 199,
   "id": "d9a94ad6",
   "metadata": {},
   "outputs": [
    {
     "data": {
      "text/plain": [
       "[0.0,\n",
       " 4.45689,\n",
       " 5.32675,\n",
       " 5.4882,\n",
       " 5.58355,\n",
       " 5.59065,\n",
       " 5.59299,\n",
       " 5.6417,\n",
       " 5.70659,\n",
       " 5.85213,\n",
       " 5.89098,\n",
       " 5.90023,\n",
       " 5.91624,\n",
       " 5.92666,\n",
       " 5.96298,\n",
       " 6.00258,\n",
       " 6.00877,\n",
       " 6.01374,\n",
       " 6.02409,\n",
       " 6.04052,\n",
       " 6.04259,\n",
       " 6.09697,\n",
       " 6.12156,\n",
       " 6.12345,\n",
       " 6.12451,\n",
       " 6.13663,\n",
       " 6.14757,\n",
       " 6.17311,\n",
       " 6.18669,\n",
       " 6.20436,\n",
       " 0.0,\n",
       " 3.64107,\n",
       " 3.96383,\n",
       " 4.00469,\n",
       " 4.19665,\n",
       " 4.30113,\n",
       " 4.34788,\n",
       " 4.43596,\n",
       " 4.52146,\n",
       " 4.54451,\n",
       " 4.55671,\n",
       " 4.57775,\n",
       " 4.60558,\n",
       " 4.68877,\n",
       " 4.69955,\n",
       " 4.70148,\n",
       " 4.70444,\n",
       " 4.7177,\n",
       " 4.76147,\n",
       " 4.76949,\n",
       " 4.78543,\n",
       " 4.81795,\n",
       " 4.83542,\n",
       " 4.84457,\n",
       " 4.85276,\n",
       " 4.86179,\n",
       " 4.89081,\n",
       " 4.9018,\n",
       " 4.90492,\n",
       " 4.90592,\n",
       " 0.0,\n",
       " 2.8716,\n",
       " 4.31316,\n",
       " 5.24022,\n",
       " 5.35858,\n",
       " 5.45579,\n",
       " 5.49845,\n",
       " 5.56903,\n",
       " 5.58304,\n",
       " 5.59716,\n",
       " 5.631,\n",
       " 5.64538,\n",
       " 5.67322,\n",
       " 5.71411,\n",
       " 5.73043,\n",
       " 5.73712,\n",
       " 5.78009,\n",
       " 5.78166,\n",
       " 5.80851,\n",
       " 5.82791,\n",
       " 5.86491,\n",
       " 5.87343,\n",
       " 5.88777,\n",
       " 5.89628,\n",
       " 5.9003,\n",
       " 5.90768,\n",
       " 5.93984,\n",
       " 5.94033,\n",
       " 5.97906,\n",
       " 5.98936,\n",
       " 0.0,\n",
       " 4.66871,\n",
       " 4.71355,\n",
       " 4.8564,\n",
       " 5.26437,\n",
       " 5.27073,\n",
       " 5.33329,\n",
       " 5.35559,\n",
       " 5.3827,\n",
       " 5.39777,\n",
       " 5.40568,\n",
       " 5.42209,\n",
       " 5.54717,\n",
       " 5.55147,\n",
       " 5.5624,\n",
       " 5.58522,\n",
       " 5.62169,\n",
       " 5.6628,\n",
       " 5.68027,\n",
       " 5.74155,\n",
       " 5.74649,\n",
       " 5.75843,\n",
       " 5.76772,\n",
       " 5.79499,\n",
       " 5.80615,\n",
       " 5.81187,\n",
       " 5.81942,\n",
       " 5.81981,\n",
       " 5.82526,\n",
       " 5.84511,\n",
       " 0.0,\n",
       " 4.00205,\n",
       " 5.09402,\n",
       " 5.10465,\n",
       " 5.28243,\n",
       " 5.28409,\n",
       " 5.29169,\n",
       " 5.30979,\n",
       " 5.31787,\n",
       " 5.33142,\n",
       " 5.36901,\n",
       " 5.37432,\n",
       " 5.38573,\n",
       " 5.40189,\n",
       " 5.41431,\n",
       " 5.41858,\n",
       " 5.45233,\n",
       " 5.49731,\n",
       " 5.49978,\n",
       " 5.50156,\n",
       " 5.51821,\n",
       " 5.53958,\n",
       " 5.55033,\n",
       " 5.55333,\n",
       " 5.56436,\n",
       " 5.59768,\n",
       " 5.60765,\n",
       " 5.61733,\n",
       " 5.63757,\n",
       " 5.65562]"
      ]
     },
     "execution_count": 199,
     "metadata": {},
     "output_type": "execute_result"
    }
   ],
   "source": [
    "filtered_list_of_numbers"
   ]
  },
  {
   "cell_type": "code",
   "execution_count": 50,
   "id": "bd1ba995",
   "metadata": {},
   "outputs": [
    {
     "data": {
      "text/plain": [
       "150"
      ]
     },
     "execution_count": 50,
     "metadata": {},
     "output_type": "execute_result"
    }
   ],
   "source": [
    "len(filtered_list)"
   ]
  },
  {
   "cell_type": "code",
   "execution_count": 51,
   "id": "24851d83",
   "metadata": {},
   "outputs": [
    {
     "data": {
      "text/plain": [
       "['flight',\n",
       " 'plane',\n",
       " 'flights',\n",
       " 'boarding',\n",
       " 'airline',\n",
       " 'jet',\n",
       " 'flying',\n",
       " 'heading',\n",
       " 'arrival',\n",
       " 'airlines',\n",
       " 'travel',\n",
       " 'shuttle',\n",
       " 'delayed',\n",
       " 'landing',\n",
       " 'route',\n",
       " 'airplane',\n",
       " 'safe',\n",
       " 'booking',\n",
       " 'fly',\n",
       " 'departure',\n",
       " 'waiting',\n",
       " 'landed',\n",
       " 'journey',\n",
       " 'passengers',\n",
       " 'transit',\n",
       " 'delay',\n",
       " 'crew',\n",
       " 'pilot',\n",
       " 'trip',\n",
       " 'taxi',\n",
       " 'good',\n",
       " 'great',\n",
       " 'well',\n",
       " 'nice',\n",
       " 'better',\n",
       " 'night',\n",
       " 'bad',\n",
       " 'morning',\n",
       " 'way',\n",
       " 'hope',\n",
       " 'but',\n",
       " 'too',\n",
       " 'really',\n",
       " 'right',\n",
       " 'though',\n",
       " 'there',\n",
       " 'day',\n",
       " 'luck',\n",
       " 'sure',\n",
       " 'it',\n",
       " 'thing',\n",
       " 'pretty',\n",
       " 'think',\n",
       " 'have',\n",
       " 'all',\n",
       " 'yes',\n",
       " 'very',\n",
       " 'again',\n",
       " 'work',\n",
       " 'yeah',\n",
       " 'terrible',\n",
       " 'horrible',\n",
       " 'awful',\n",
       " 'bad',\n",
       " 'brutal',\n",
       " 'idea',\n",
       " 'horrendous',\n",
       " 'horrid',\n",
       " 'shitty',\n",
       " 'quite',\n",
       " 'worst',\n",
       " 'similar',\n",
       " 'shame',\n",
       " 'worse',\n",
       " 'crap',\n",
       " 'actual',\n",
       " 'horrific',\n",
       " 'bloody',\n",
       " 'ridiculous',\n",
       " 'such',\n",
       " 'atrocious',\n",
       " 'dreadful',\n",
       " 'sick',\n",
       " 'wtf',\n",
       " 'fucking',\n",
       " 'cruel',\n",
       " 'seriously',\n",
       " 'unreal',\n",
       " 'mess',\n",
       " 'however',\n",
       " 'help',\n",
       " 'need',\n",
       " 'helping',\n",
       " 'please',\n",
       " 'pls',\n",
       " 'let',\n",
       " 'us',\n",
       " 'give',\n",
       " 'trying',\n",
       " 'can',\n",
       " 'helps',\n",
       " 'must',\n",
       " 'tell',\n",
       " 'find',\n",
       " 'could',\n",
       " 'plz',\n",
       " 'helped',\n",
       " 'support',\n",
       " 'anyone',\n",
       " 'should',\n",
       " 'save',\n",
       " 'take',\n",
       " 'want',\n",
       " 'bring',\n",
       " 'maybe',\n",
       " 'lets',\n",
       " 'seriously',\n",
       " 'able',\n",
       " 'here',\n",
       " 'needs',\n",
       " 'late',\n",
       " 'early',\n",
       " 'earlier',\n",
       " 'usual',\n",
       " 'after',\n",
       " 'again',\n",
       " 'saturday',\n",
       " 'afternoon',\n",
       " 'hour',\n",
       " 'guess',\n",
       " 'missed',\n",
       " 'work',\n",
       " 'hours',\n",
       " 'sunday',\n",
       " 'since',\n",
       " 'night',\n",
       " 'anyway',\n",
       " 'yesterday',\n",
       " 'last',\n",
       " 'maybe',\n",
       " 'yet',\n",
       " 'monday',\n",
       " 'wait',\n",
       " 'either',\n",
       " 'mins',\n",
       " 'wake',\n",
       " 'before',\n",
       " 'thursday',\n",
       " 'hopefully',\n",
       " 'friday']"
      ]
     },
     "execution_count": 51,
     "metadata": {},
     "output_type": "execute_result"
    }
   ],
   "source": [
    "filtered_list"
   ]
  },
  {
   "cell_type": "code",
   "execution_count": 52,
   "id": "76b2fdd7",
   "metadata": {},
   "outputs": [],
   "source": [
    "filtered_embeds = ge.embed_list(filtered_list)"
   ]
  },
  {
   "cell_type": "code",
   "execution_count": 54,
   "id": "9a9ebc85",
   "metadata": {},
   "outputs": [
    {
     "data": {
      "text/plain": [
       "(150, 200)"
      ]
     },
     "execution_count": 54,
     "metadata": {},
     "output_type": "execute_result"
    }
   ],
   "source": [
    "filtered_embeds.shape"
   ]
  },
  {
   "cell_type": "code",
   "execution_count": 333,
   "id": "673ac874",
   "metadata": {},
   "outputs": [
    {
     "data": {
      "text/plain": [
       "array([[-0.16572, -0.08395,  0.02257, ..., -0.28324,  0.45505,  0.14103],\n",
       "       [-0.25592, -0.33874, -0.09671, ..., -0.55179,  0.38059,  0.03867],\n",
       "       [-0.57264,  0.35847,  0.37772, ...,  0.24231,  0.39318,  0.93379],\n",
       "       ...,\n",
       "       [-0.25522,  0.0906 , -0.07389, ...,  0.14102,  0.28921,  0.4418 ],\n",
       "       [ 0.18512,  0.01346, -0.12087, ...,  0.22114,  0.11646, -0.03482],\n",
       "       [-0.26034,  0.26942,  0.16707, ..., -0.15519,  0.55632,  0.30085]])"
      ]
     },
     "execution_count": 333,
     "metadata": {},
     "output_type": "execute_result"
    }
   ],
   "source": [
    "filtered_embeds"
   ]
  },
  {
   "cell_type": "code",
   "execution_count": 59,
   "id": "cd94d3d1",
   "metadata": {},
   "outputs": [],
   "source": [
    "from sklearn.decomposition import PCA\n",
    "pca = PCA(n_components=2)\n",
    "model_pca = pca.fit_transform(filtered_embeds)\n",
    "pca_df = pd.DataFrame(data = model_pca, columns = ['col1', 'col2'])"
   ]
  },
  {
   "cell_type": "code",
   "execution_count": 70,
   "id": "0bb4c04d",
   "metadata": {
    "scrolled": true
   },
   "outputs": [
    {
     "data": {
      "text/plain": [
       "150"
      ]
     },
     "execution_count": 70,
     "metadata": {},
     "output_type": "execute_result"
    }
   ],
   "source": [
    "pca_df.shape[0]"
   ]
  },
  {
   "cell_type": "code",
   "execution_count": 106,
   "id": "8f1bf0cf",
   "metadata": {},
   "outputs": [],
   "source": [
    "def plot_tsne(step):\n",
    "    x = 0\n",
    "    while x <= tsne_df.shape[0]:\n",
    "        plt.scatter(tsne_df[x:x+30]['col1'], tsne_df[x:x+30]['col2'])\n",
    "        plt.legend(labels = list_of_words)\n",
    "        plt.xlabel('tsne_dimension_1')\n",
    "        plt.ylabel('tsne_dimension_2')\n",
    "        step = str(step)\n",
    "        plt.title('Vsualizing 150 words into 2-d space in TSNE ' + 'perplexity value ' + step)\n",
    "        x += 30"
   ]
  },
  {
   "cell_type": "code",
   "execution_count": 82,
   "id": "4e10a363",
   "metadata": {},
   "outputs": [
    {
     "data": {
      "image/png": "[encoded data removed]",
      "text/plain": [
       "<Figure size 432x288 with 1 Axes>"
      ]
     },
     "metadata": {
      "needs_background": "light"
     },
     "output_type": "display_data"
    }
   ],
   "source": [
    "x = 0\n",
    "while x <= pca_df.shape[0]:\n",
    "    plt.scatter(pca_df[x:x+30]['col1'], pca_df[x:x+30]['col2'])\n",
    "    plt.legend(labels = list_of_words)\n",
    "    plt.xlabel('pca_dimension_1')\n",
    "    plt.ylabel('pca_dimension_2')\n",
    "    plt.title('Vsualizing 150 words into 2-d space in PCA')\n",
    "    x += 30"
   ]
  },
  {
   "cell_type": "code",
   "execution_count": 105,
   "id": "912fe6f9",
   "metadata": {},
   "outputs": [
    {
     "data": {
      "image/png": "[encoded data removed]",
      "text/plain": [
       "<Figure size 432x288 with 1 Axes>"
      ]
     },
     "metadata": {
      "needs_background": "light"
     },
     "output_type": "display_data"
    },
    {
     "data": {
      "image/png": "[encoded data removed]",
      "text/plain": [
       "<Figure size 432x288 with 1 Axes>"
      ]
     },
     "metadata": {
      "needs_background": "light"
     },
     "output_type": "display_data"
    },
    {
     "data": {
      "image/png": "[encoded data removed]",
      "text/plain": [
       "<Figure size 432x288 with 1 Axes>"
      ]
     },
     "metadata": {
      "needs_background": "light"
     },
     "output_type": "display_data"
    },
    {
     "data": {
      "image/png": "[encoded data removed]",
      "text/plain": [
       "<Figure size 432x288 with 1 Axes>"
      ]
     },
     "metadata": {
      "needs_background": "light"
     },
     "output_type": "display_data"
    }
   ],
   "source": [
    "from sklearn.manifold import TSNE\n",
    "for step in range(10, 50, 10):\n",
    "    model_tsne = TSNE(n_components=2, learning_rate='auto',init='random', perplexity=step).fit_transform(filtered_embeds)\n",
    "    tsne_df = pd.DataFrame(data = model_tsne, columns = ['col1', 'col2'])\n",
    "    plot_tsne(step)\n",
    "    plt.show()"
   ]
  },
  {
   "cell_type": "code",
   "execution_count": 137,
   "id": "cbed09fe",
   "metadata": {},
   "outputs": [],
   "source": [
    "list_of_inertia = []\n",
    "list_of_clusters = []\n",
    "for cluster in range(2,20,1):\n",
    "    kmeans = KMeans(n_clusters=cluster, random_state=0)\n",
    "    kmeans.fit(filtered_embeds)\n",
    "    model_kmeans = kmeans.transform(filtered_embeds)\n",
    "    list_of_inertia.append(kmeans.inertia_)\n",
    "    list_of_clusters.append(cluster)"
   ]
  },
  {
   "cell_type": "code",
   "execution_count": 139,
   "id": "bee0aafd",
   "metadata": {
    "scrolled": false
   },
   "outputs": [
    {
     "data": {
      "text/plain": [
       "Text(0.5, 1.0, 'Inertia Vs. K-values')"
      ]
     },
     "execution_count": 139,
     "metadata": {},
     "output_type": "execute_result"
    },
    {
     "data": {
      "image/png": "[encoded data removed]",
      "text/plain": [
       "<Figure size 432x288 with 1 Axes>"
      ]
     },
     "metadata": {
      "needs_background": "light"
     },
     "output_type": "display_data"
    }
   ],
   "source": [
    "plt.plot(list_of_clusters, list_of_inertia)\n",
    "plt.ylabel('Inertia values')\n",
    "plt.xlabel('K-values')\n",
    "plt.title('Inertia Vs. K-values')"
   ]
  },
  {
   "cell_type": "code",
   "execution_count": 158,
   "id": "3d7c7013",
   "metadata": {},
   "outputs": [],
   "source": [
    "from sklearn.metrics.cluster import normalized_mutual_info_score"
   ]
  },
  {
   "cell_type": "code",
   "execution_count": 159,
   "id": "5821449c",
   "metadata": {},
   "outputs": [
    {
     "data": {
      "text/plain": [
       "array([[-0.16572, -0.08395,  0.02257, ..., -0.28324,  0.45505,  0.14103],\n",
       "       [-0.25592, -0.33874, -0.09671, ..., -0.55179,  0.38059,  0.03867],\n",
       "       [-0.57264,  0.35847,  0.37772, ...,  0.24231,  0.39318,  0.93379],\n",
       "       ...,\n",
       "       [-0.25522,  0.0906 , -0.07389, ...,  0.14102,  0.28921,  0.4418 ],\n",
       "       [ 0.18512,  0.01346, -0.12087, ...,  0.22114,  0.11646, -0.03482],\n",
       "       [-0.26034,  0.26942,  0.16707, ..., -0.15519,  0.55632,  0.30085]])"
      ]
     },
     "execution_count": 159,
     "metadata": {},
     "output_type": "execute_result"
    }
   ],
   "source": [
    "filtered_embeds"
   ]
  },
  {
   "cell_type": "code",
   "execution_count": 160,
   "id": "bccd2190",
   "metadata": {},
   "outputs": [],
   "source": [
    "from numpy import random\n",
    "\n",
    "x=random.randint(150, size=(5))"
   ]
  },
  {
   "cell_type": "code",
   "execution_count": 162,
   "id": "c3cebc1e",
   "metadata": {},
   "outputs": [],
   "source": [
    "xyz = [0,1,2,3,4]"
   ]
  },
  {
   "cell_type": "code",
   "execution_count": 326,
   "id": "9c77fb88",
   "metadata": {},
   "outputs": [],
   "source": [
    "true_labels = [27, 54, 87, 112, 145]"
   ]
  },
  {
   "cell_type": "code",
   "execution_count": 327,
   "id": "a3904db5",
   "metadata": {},
   "outputs": [],
   "source": [
    "words = []\n",
    "for value in true_labels:\n",
    "    words.append(filtered_list[value])"
   ]
  },
  {
   "cell_type": "code",
   "execution_count": 328,
   "id": "697f8cf7",
   "metadata": {},
   "outputs": [
    {
     "data": {
      "text/plain": [
       "['pilot', 'all', 'unreal', 'want', 'wake']"
      ]
     },
     "execution_count": 328,
     "metadata": {},
     "output_type": "execute_result"
    }
   ],
   "source": [
    "words"
   ]
  },
  {
   "cell_type": "code",
   "execution_count": 329,
   "id": "7b257044",
   "metadata": {},
   "outputs": [],
   "source": [
    "kmeans_embeds = ge.embed_list(words)"
   ]
  },
  {
   "cell_type": "code",
   "execution_count": 330,
   "id": "16c18682",
   "metadata": {},
   "outputs": [
    {
     "data": {
      "text/plain": [
       "(5, 200)"
      ]
     },
     "execution_count": 330,
     "metadata": {},
     "output_type": "execute_result"
    }
   ],
   "source": [
    "kmeans_embeds.shape"
   ]
  },
  {
   "cell_type": "code",
   "execution_count": 331,
   "id": "78e1a154",
   "metadata": {},
   "outputs": [],
   "source": [
    "# weights_of_words = np.asarray(weights_of_words)\n",
    "# weights_of_words = weights_of_words.reshape(-1, 1)"
   ]
  },
  {
   "cell_type": "code",
   "execution_count": 347,
   "id": "f3c396a9",
   "metadata": {},
   "outputs": [],
   "source": [
    "new_array = []\n",
    "x = 150\n",
    "i = 0\n",
    "while x >0:\n",
    "    d = [i]* 30\n",
    "    new_array+=d\n",
    "    x -= 30\n",
    "    i += 1"
   ]
  },
  {
   "cell_type": "code",
   "execution_count": 348,
   "id": "bdc72058",
   "metadata": {},
   "outputs": [
    {
     "data": {
      "text/plain": [
       "[0,\n",
       " 0,\n",
       " 0,\n",
       " 0,\n",
       " 0,\n",
       " 0,\n",
       " 0,\n",
       " 0,\n",
       " 0,\n",
       " 0,\n",
       " 0,\n",
       " 0,\n",
       " 0,\n",
       " 0,\n",
       " 0,\n",
       " 0,\n",
       " 0,\n",
       " 0,\n",
       " 0,\n",
       " 0,\n",
       " 0,\n",
       " 0,\n",
       " 0,\n",
       " 0,\n",
       " 0,\n",
       " 0,\n",
       " 0,\n",
       " 0,\n",
       " 0,\n",
       " 0,\n",
       " 1,\n",
       " 1,\n",
       " 1,\n",
       " 1,\n",
       " 1,\n",
       " 1,\n",
       " 1,\n",
       " 1,\n",
       " 1,\n",
       " 1,\n",
       " 1,\n",
       " 1,\n",
       " 1,\n",
       " 1,\n",
       " 1,\n",
       " 1,\n",
       " 1,\n",
       " 1,\n",
       " 1,\n",
       " 1,\n",
       " 1,\n",
       " 1,\n",
       " 1,\n",
       " 1,\n",
       " 1,\n",
       " 1,\n",
       " 1,\n",
       " 1,\n",
       " 1,\n",
       " 1,\n",
       " 2,\n",
       " 2,\n",
       " 2,\n",
       " 2,\n",
       " 2,\n",
       " 2,\n",
       " 2,\n",
       " 2,\n",
       " 2,\n",
       " 2,\n",
       " 2,\n",
       " 2,\n",
       " 2,\n",
       " 2,\n",
       " 2,\n",
       " 2,\n",
       " 2,\n",
       " 2,\n",
       " 2,\n",
       " 2,\n",
       " 2,\n",
       " 2,\n",
       " 2,\n",
       " 2,\n",
       " 2,\n",
       " 2,\n",
       " 2,\n",
       " 2,\n",
       " 2,\n",
       " 2,\n",
       " 3,\n",
       " 3,\n",
       " 3,\n",
       " 3,\n",
       " 3,\n",
       " 3,\n",
       " 3,\n",
       " 3,\n",
       " 3,\n",
       " 3,\n",
       " 3,\n",
       " 3,\n",
       " 3,\n",
       " 3,\n",
       " 3,\n",
       " 3,\n",
       " 3,\n",
       " 3,\n",
       " 3,\n",
       " 3,\n",
       " 3,\n",
       " 3,\n",
       " 3,\n",
       " 3,\n",
       " 3,\n",
       " 3,\n",
       " 3,\n",
       " 3,\n",
       " 3,\n",
       " 3,\n",
       " 4,\n",
       " 4,\n",
       " 4,\n",
       " 4,\n",
       " 4,\n",
       " 4,\n",
       " 4,\n",
       " 4,\n",
       " 4,\n",
       " 4,\n",
       " 4,\n",
       " 4,\n",
       " 4,\n",
       " 4,\n",
       " 4,\n",
       " 4,\n",
       " 4,\n",
       " 4,\n",
       " 4,\n",
       " 4,\n",
       " 4,\n",
       " 4,\n",
       " 4,\n",
       " 4,\n",
       " 4,\n",
       " 4,\n",
       " 4,\n",
       " 4,\n",
       " 4,\n",
       " 4]"
      ]
     },
     "execution_count": 348,
     "metadata": {},
     "output_type": "execute_result"
    }
   ],
   "source": [
    "new_array"
   ]
  },
  {
   "cell_type": "code",
   "execution_count": 351,
   "id": "4762153e",
   "metadata": {
    "scrolled": true
   },
   "outputs": [
    {
     "name": "stdout",
     "output_type": "stream",
     "text": [
      "f cluster: 2 0.3601051520996533\n",
      "f cluster: 3 0.6138981869527641\n",
      "f cluster: 4 0.6410376946767983\n",
      "f cluster: 5 0.7094382303217028\n",
      "f cluster: 6 0.6292536722906626\n",
      "f cluster: 7 0.682911927834081\n",
      "f cluster: 8 0.6388489415826499\n",
      "f cluster: 9 0.5783991425965873\n",
      "f cluster: 10 0.559444573465042\n",
      "f cluster: 11 0.5821611154070353\n",
      "f cluster: 12 0.5688651317457399\n",
      "f cluster: 13 0.6065932244105091\n",
      "f cluster: 14 0.5624987464308063\n",
      "f cluster: 15 0.6017181091613001\n",
      "f cluster: 16 0.5382331889745171\n",
      "f cluster: 17 0.5499027161807599\n",
      "f cluster: 18 0.5152653171458719\n",
      "f cluster: 19 0.5415851665019153\n"
     ]
    }
   ],
   "source": [
    "from sklearn.metrics.cluster import adjusted_rand_score\n",
    "list_of_predictions = []\n",
    "list_of_labels = []\n",
    "cluster_centers = []\n",
    "cluster_size = []\n",
    "for cluster in range(2,20,1):\n",
    "    kmeans = KMeans(n_clusters=cluster, random_state=0)\n",
    "    kmeans.fit(filtered_embeds)\n",
    "    model_kmeans = kmeans.transform(filtered_embeds)\n",
    "    list_of_labels.append(kmeans.labels_)\n",
    "    cluster_centers.append(kmeans.cluster_centers_)\n",
    "   # kmeans_prediction = kmeans.predict(kmeans_embeds)\n",
    "    kmeans_prediction = kmeans.predict(filtered_embeds)\n",
    "    \n",
    "    print('f cluster: {}'.format(cluster), normalized_mutual_info_score(new_array, kmeans_prediction))\n",
    "    list_of_predictions.append(normalized_mutual_info_score(new_array, kmeans_prediction))\n",
    "    cluster_size.append(cluster)"
   ]
  },
  {
   "cell_type": "code",
   "execution_count": 353,
   "id": "74992f13",
   "metadata": {},
   "outputs": [
    {
     "data": {
      "text/plain": [
       "[<matplotlib.lines.Line2D at 0x7feedb002760>]"
      ]
     },
     "execution_count": 353,
     "metadata": {},
     "output_type": "execute_result"
    },
    {
     "data": {
      "image/png": "[encoded data removed]",
      "text/plain": [
       "<Figure size 432x288 with 1 Axes>"
      ]
     },
     "metadata": {
      "needs_background": "light"
     },
     "output_type": "display_data"
    }
   ],
   "source": [
    "plt.plot( cluster_size, list_of_predictions)"
   ]
  },
  {
   "cell_type": "code",
   "execution_count": 361,
   "id": "76942e06",
   "metadata": {},
   "outputs": [
    {
     "name": "stdout",
     "output_type": "stream",
     "text": [
      "f cluster: 2 0.1722357081181473\n",
      "f cluster: 3 0.38110777201023993\n",
      "f cluster: 4 0.4780653619861524\n",
      "f cluster: 5 0.6068964244861813\n",
      "f cluster: 6 0.4330101409403741\n",
      "f cluster: 7 0.5970798321046645\n",
      "f cluster: 8 0.47887643661249507\n",
      "f cluster: 9 0.4068599112396771\n",
      "f cluster: 10 0.360002445391908\n",
      "f cluster: 11 0.37713513377800467\n",
      "f cluster: 12 0.3823853849352148\n",
      "f cluster: 13 0.3918508303299301\n",
      "f cluster: 14 0.3009452245354132\n",
      "f cluster: 15 0.4268139402018663\n",
      "f cluster: 16 0.28672153347224927\n",
      "f cluster: 17 0.30809463290644246\n",
      "f cluster: 18 0.25395239051828045\n",
      "f cluster: 19 0.25702441038004625\n"
     ]
    }
   ],
   "source": [
    "list_of_predictions_adj = []\n",
    "cluster_size_adj = []\n",
    "for cluster in range(2,20,1):\n",
    "    kmeans = KMeans(n_clusters=cluster, random_state=0)\n",
    "    kmeans.fit(filtered_embeds)\n",
    "    model_kmeans = kmeans.transform(filtered_embeds)\n",
    "    list_of_labels.append(kmeans.labels_)\n",
    "    cluster_centers.append(kmeans.cluster_centers_)\n",
    "   # kmeans_prediction = kmeans.predict(kmeans_embeds)\n",
    "    kmeans_prediction = kmeans.predict(filtered_embeds)\n",
    "    \n",
    "    print('f cluster: {}'.format(cluster), adjusted_rand_score(new_array, kmeans_prediction))\n",
    "    list_of_predictions_adj.append(adjusted_rand_score(new_array, kmeans_prediction))\n",
    "    cluster_size_adj.append(cluster)"
   ]
  },
  {
   "cell_type": "code",
   "execution_count": 362,
   "id": "4998c4c1",
   "metadata": {},
   "outputs": [
    {
     "data": {
      "text/plain": [
       "[<matplotlib.lines.Line2D at 0x7feedc6db580>]"
      ]
     },
     "execution_count": 362,
     "metadata": {},
     "output_type": "execute_result"
    },
    {
     "data": {
      "image/png": "[encoded data removed]",
      "text/plain": [
       "<Figure size 432x288 with 1 Axes>"
      ]
     },
     "metadata": {
      "needs_background": "light"
     },
     "output_type": "display_data"
    }
   ],
   "source": [
    "plt.plot( cluster_size_adj, list_of_predictions_adj)"
   ]
  },
  {
   "cell_type": "code",
   "execution_count": null,
   "id": "b10b0aff",
   "metadata": {},
   "outputs": [],
   "source": []
  }
 ],
 "metadata": {
  "kernelspec": {
   "display_name": "Python 3 (ipykernel)",
   "language": "python",
   "name": "python3"
  },
  "language_info": {
   "codemirror_mode": {
    "name": "ipython",
    "version": 3
   },
   "file_extension": ".py",
   "mimetype": "text/x-python",
   "name": "python",
   "nbconvert_exporter": "python",
   "pygments_lexer": "ipython3",
   "version": "3.9.7"
  },
  "toc": {
   "base_numbering": 1,
   "nav_menu": {},
   "number_sections": true,
   "sideBar": true,
   "skip_h1_title": false,
   "title_cell": "Table of Contents",
   "title_sidebar": "Contents",
   "toc_cell": true,
   "toc_position": {
    "height": "calc(100% - 180px)",
    "left": "10px",
    "top": "150px",
    "width": "165px"
   },
   "toc_section_display": true,
   "toc_window_display": true
  }
 },
 "nbformat": 4,
 "nbformat_minor": 5
}
