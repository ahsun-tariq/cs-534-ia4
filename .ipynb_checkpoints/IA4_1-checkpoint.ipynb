{
 "cells": [
  {
   "cell_type": "markdown",
   "id": "e4db2d8c",
   "metadata": {
    "toc": true
   },
   "source": [
    "<h1>Table of Contents<span class=\"tocSkip\"></span></h1>\n",
    "<div class=\"toc\"><ul class=\"toc-item\"></ul></div>"
   ]
  },
  {
   "cell_type": "code",
   "execution_count": 15,
   "id": "099767ca",
   "metadata": {},
   "outputs": [
    {
     "name": "stderr",
     "output_type": "stream",
     "text": [
      "[nltk_data] Downloading package stopwords to\n",
      "[nltk_data]     /Users/ivanmakarov/nltk_data...\n",
      "[nltk_data]   Package stopwords is already up-to-date!\n"
     ]
    }
   ],
   "source": [
    "import pandas as pd\n",
    "import numpy as np\n",
    "import sklearn\n",
    "from sklearn.model_selection import train_test_split\n",
    "from sklearn.linear_model import LogisticRegression\n",
    "import seaborn as sns\n",
    "import matplotlib.pyplot as plt\n",
    "import statistics as st\n",
    "import datetime\n",
    "from datetime import datetime \n",
    "from nltk.corpus import stopwords as nltk_stopwords\n",
    "from sklearn.feature_extraction.text import TfidfVectorizer\n",
    "import re \n",
    "import nltk\n",
    "nltk.download('stopwords')\n",
    "#nltk.download('wordnet')\n",
    "from nltk.stem import WordNetLemmatizer \n",
    "#nltk.download('punkt')\n",
    "from sklearn.feature_extraction.text import CountVectorizer\n",
    "\n",
    "from sklearn.dummy import DummyClassifier\n",
    "from nltk.corpus import wordnet as wn\n",
    "from nltk.stem.wordnet import WordNetLemmatizer\n",
    "from nltk import word_tokenize, pos_tag\n",
    "from collections import defaultdict\n",
    "#nltk.download('averaged_perceptron_tagger')\n",
    "from sklearn.svm import LinearSVC\n",
    "import numpy\n",
    "import seaborn\n",
    "import matplotlib.pyplot as plot\n",
    "import math\n",
    "from math import log"
   ]
  },
  {
   "cell_type": "code",
   "execution_count": 16,
   "id": "d9c25c88",
   "metadata": {},
   "outputs": [],
   "source": [
    "# Loads a data file from a provided file location.\n",
    "def load_data(path):\n",
    "\n",
    "    try:\n",
    "        loaded_data = pd.read_csv(path)\n",
    "        print(loaded_data)\n",
    "    except:\n",
    "        print('The required file does not exist!')    \n",
    "\n",
    "    return loaded_data"
   ]
  },
  {
   "cell_type": "code",
   "execution_count": 17,
   "id": "28d039a3",
   "metadata": {},
   "outputs": [
    {
     "name": "stdout",
     "output_type": "stream",
     "text": [
      "      sentiment                                               text\n",
      "0             0  @united who is in charge of making decisions o...\n",
      "1             0  @united great decision making skills flight op...\n",
      "2             0  @AmericanAir so what if I didn't have the fund...\n",
      "3             0  @united My flying United is over...sorry. The ...\n",
      "4             0  @united I believe just customer service. At la...\n",
      "...         ...                                                ...\n",
      "8995          1  @SouthwestAir your flight attendants are reall...\n",
      "8996          1  @VirginAmerica Love the team running Gate E9 a...\n",
      "8997          0  @SouthwestAir really shouldn't offer sweeps if...\n",
      "8998          0  @united no HUMAN contact for 2 mths from @Amer...\n",
      "8999          1  @JetBlue Landing! As usual great flight wiyh a...\n",
      "\n",
      "[9000 rows x 2 columns]\n"
     ]
    }
   ],
   "source": [
    "train_data = load_data(\"IA3-train.csv\")"
   ]
  },
  {
   "cell_type": "code",
   "execution_count": 18,
   "id": "c80e9b64",
   "metadata": {},
   "outputs": [
    {
     "name": "stdout",
     "output_type": "stream",
     "text": [
      "      sentiment                                               text\n",
      "0             1  @JetBlue Then en route to the airport the rebo...\n",
      "1             0  @JetBlue I’m going to miss a hugely important ...\n",
      "2             0  @USAirways never flying you guys again. your c...\n",
      "3             0  @AmericanAir but, what I can always rely on wh...\n",
      "4             0  @JetBlue you really should be more proactive w...\n",
      "...         ...                                                ...\n",
      "2495          0  @united kind of unnerving to watch the guy dei...\n",
      "2496          0  @united already did that at the airport and 12...\n",
      "2497          0  @JetBlue and they are telling me I got to get ...\n",
      "2498          0  @USAirways delayed 2 days for weather and on t...\n",
      "2499          0  @SouthwestAir We've been sitting at the gate f...\n",
      "\n",
      "[2500 rows x 2 columns]\n"
     ]
    }
   ],
   "source": [
    "val_data = load_data(\"IA3-dev.csv\")"
   ]
  },
  {
   "cell_type": "code",
   "execution_count": 19,
   "id": "4da6e7af",
   "metadata": {},
   "outputs": [],
   "source": [
    "import numpy as np\n",
    "\n",
    "# Loads GloVe embeddings from a designated file location. \n",
    "#\n",
    "# Invoked via:\n",
    "# ge = GloVe_Embedder(path_to_embeddings)\n",
    "#\n",
    "# Embed single word via:\n",
    "# embed = ge.embed_str(word)\n",
    "#\n",
    "# Embed a list of words via:\n",
    "# embeds = ge.embed_list(word_list)\n",
    "#\n",
    "# Find nearest neighbors via:\n",
    "# ge.find_k_nearest(word, k)\n",
    "#\n",
    "# Save vocabulary to file via:\n",
    "# ge.save_to_file(path_to_file)\n",
    "\n",
    "class GloVe_Embedder:\n",
    "    def __init__(self, path):\n",
    "        self.embedding_dict = {}\n",
    "        self.embedding_array = []\n",
    "        self.unk_emb = 0\n",
    "        # Adapted from https://stackoverflow.com/questions/37793118/load-pretrained-GloVe-vectors-in-python\n",
    "        with open(path,'r') as f:\n",
    "            for line in f:\n",
    "                split_line = line.split()\n",
    "                word = split_line[0]\n",
    "                embedding = np.array(split_line[1:], dtype=np.float64)\n",
    "                self.embedding_dict[word] = embedding\n",
    "                self.embedding_array.append(embedding.tolist())\n",
    "        self.embedding_array = np.array(self.embedding_array)\n",
    "        self.embedding_dim = len(self.embedding_array[0])\n",
    "        self.vocab_size = len(self.embedding_array)\n",
    "        self.unk_emb = np.zeros(self.embedding_dim)\n",
    "\n",
    "    # Check if the provided embedding is the unknown embedding.\n",
    "    def is_unk_embed(self, embed):\n",
    "        return np.sum((embed - self.unk_emb) ** 2) < 1e-7\n",
    "    \n",
    "    # Check if the provided string is in the vocabulary.\n",
    "    def token_in_vocab(self, x):\n",
    "        if x in self.embedding_dict and not self.is_unk_embed(self.embedding_dict[x]):\n",
    "            return True\n",
    "        return False\n",
    "\n",
    "    # Returns the embedding for a single string and prints a warning if\n",
    "    # the string is unknown to the vocabulary.\n",
    "    # \n",
    "    # If indicate_unk is set to True, the return type will be a tuple of \n",
    "    # (numpy array, bool) with the bool indicating whether the returned \n",
    "    # embedding is the unknown embedding.\n",
    "    #\n",
    "    # If warn_unk is set to False, the method will no longer print warnings\n",
    "    # when used on unknown strings.\n",
    "    def embed_str(self, x, indicate_unk = False, warn_unk = True):\n",
    "        if self.token_in_vocab(x):\n",
    "            if indicate_unk:\n",
    "                return (self.embedding_dict[x], False)\n",
    "            else:\n",
    "                return self.embedding_dict[x]\n",
    "        else:\n",
    "            if warn_unk:\n",
    "                    print(\"Warning: provided word is not part of the vocabulary!\")\n",
    "            if indicate_unk:\n",
    "                return (self.unk_emb, True)\n",
    "            else:\n",
    "                return self.unk_emb\n",
    "\n",
    "    # Returns an array containing the embeddings of each vocabulary token in the provided list.\n",
    "    #\n",
    "    # If include_unk is set to False, the returned list will not include any unknown embeddings.\n",
    "    def embed_list(self, x, include_unk = True):\n",
    "        if include_unk:\n",
    "            embeds = [self.embed_str(word, warn_unk = False).tolist() for word in x]\n",
    "        else:\n",
    "            embeds_with_unk = [self.embed_str(word, indicate_unk=True, warn_unk = False) for word in x]\n",
    "            embeds = [e[0].tolist() for e in embeds_with_unk if not e[1]]\n",
    "            if len(embeds) == 0:\n",
    "                print(\"No known words in input:\" + str(x))\n",
    "                embeds = [self.unk_emb.tolist()]\n",
    "        return np.array(embeds)\n",
    "    \n",
    "    # Finds the vocab words associated with the k nearest embeddings of the provided word. \n",
    "    # Can also accept an embedding vector in place of a string word.\n",
    "    # Return type is a nested list where each entry is a word in the vocab followed by its \n",
    "    # distance from whatever word was provided as an argument.\n",
    "    def find_k_nearest(self, word, k, warn_about_unks = True):\n",
    "        if type(word) == str:\n",
    "            word_embedding, is_unk = self.embed_str(word, indicate_unk = True)\n",
    "        else:\n",
    "            word_embedding = word\n",
    "            is_unk = False\n",
    "        if is_unk and warn_about_unks:\n",
    "            print(\"Warning: provided word is not part of the vocabulary!\")\n",
    "\n",
    "        all_distances = np.sum((self.embedding_array - word_embedding) ** 2, axis = 1) ** 0.5\n",
    "        distance_vocab_index = [[w, round(d, 5)] for w,d,i in zip(self.embedding_dict.keys(), all_distances, range(len(all_distances)))]\n",
    "        distance_vocab_index = sorted(distance_vocab_index, key = lambda x: x[1], reverse = False)\n",
    "        return distance_vocab_index[:k]\n",
    "\n",
    "    def save_to_file(self, path):\n",
    "        with open(path, 'w') as f:\n",
    "            for k in self.embedding_dict.keys():\n",
    "                embedding_str = \" \".join([str(round(s, 5)) for s in self.embedding_dict[k].tolist()])\n",
    "                string = k + \" \" + embedding_str\n",
    "                f.write(string + \"\\n\")"
   ]
  },
  {
   "cell_type": "code",
   "execution_count": 20,
   "id": "b58a5692",
   "metadata": {},
   "outputs": [],
   "source": [
    "ge = GloVe_Embedder(\"GloVe_Embedder_data.txt\")"
   ]
  },
  {
   "cell_type": "code",
   "execution_count": 21,
   "id": "c1b75023",
   "metadata": {},
   "outputs": [],
   "source": [
    "list_of_words = ['flight', 'good', 'terrible', 'help' , 'late']"
   ]
  },
  {
   "cell_type": "code",
   "execution_count": 22,
   "id": "a9ed03f1",
   "metadata": {},
   "outputs": [],
   "source": [
    "embeds = ge.embed_list(list_of_words)"
   ]
  },
  {
   "cell_type": "code",
   "execution_count": 23,
   "id": "bf41810c",
   "metadata": {},
   "outputs": [
    {
     "name": "stdout",
     "output_type": "stream",
     "text": [
      "[[-1.6572e-01 -8.3950e-02  2.2570e-02  3.9720e-02  3.0814e-01  1.7639e-01\n",
      "   2.8357e-01  5.5700e-03 -9.5600e-03  1.4846e-01  4.8067e-01  2.5237e-01\n",
      "  -4.3009e-01  1.6862e-01  1.2911e-01 -5.9924e-01 -1.3999e-01  4.9635e-01\n",
      "  -8.2510e-02 -2.6530e-01 -2.1277e-01 -2.2453e-01  3.0011e-01 -2.8075e-01\n",
      "   5.1310e-02  1.0421e+00 -6.7080e-02 -5.7052e-01  8.7370e-02 -4.3915e-01\n",
      "  -8.1000e-03  5.2400e-03  2.6832e-01 -6.5057e-01 -6.3500e-02  6.0998e-01\n",
      "  -7.6290e-01  1.5033e-01  9.2465e-01  1.2769e-01 -3.1095e-01  2.4462e-01\n",
      "   9.2752e-01 -9.8065e-01  3.0698e-01 -9.4610e-01 -1.6245e-01 -2.9793e-01\n",
      "   4.7237e-01  3.2092e-01 -2.7117e-01 -4.8036e-01  1.8380e-02 -1.4158e-01\n",
      "  -3.4337e-01  1.1486e-01  2.1472e-01  7.0729e-01 -2.4157e-01 -2.1553e-01\n",
      "   3.9954e-01  4.6465e-01  4.1700e-01  2.0390e-01 -3.0071e-01  1.1968e-01\n",
      "   2.6760e-01  1.3740e-02  3.3544e-01 -8.0908e-01 -1.9069e-01  2.4530e-01\n",
      "  -5.8880e-02 -8.7979e-01  9.5020e-01 -1.7699e-01 -2.2566e-01  1.2184e-01\n",
      "   5.2940e-01  1.7246e-01  9.9000e-03 -3.0838e-01  8.4287e-01  1.3554e-01\n",
      "  -6.7430e-02 -2.9450e-01  4.0472e-01  2.9600e-02  2.9183e-01  3.7226e-01\n",
      "   4.7130e-02 -5.7256e-01 -4.4654e-01 -4.7700e-03 -2.1558e-01 -1.8263e-01\n",
      "   3.7504e-01 -2.8365e-01 -6.9789e-01 -2.0536e-01  1.7530e-01 -3.8883e-01\n",
      "  -5.7182e-01  7.2660e-02 -4.5191e-01 -3.4966e-01  3.9976e-01 -3.3020e-02\n",
      "   1.1417e-01  1.4257e-01 -1.4591e-01 -2.0860e-02 -4.2309e-01  5.8536e-01\n",
      "   2.2284e-01 -8.6722e-01 -2.7132e-01 -3.7823e-01  6.1125e-01  7.5074e-01\n",
      "   1.0451e+00  2.6340e-02 -4.8420e-02 -3.3800e-03 -1.2824e-01  4.0620e-01\n",
      "  -7.9040e-02  3.2437e-01 -3.6623e-01  5.5756e-01  4.6780e-01 -3.9125e-01\n",
      "   1.1790e-01 -1.8556e-01 -2.9150e-02 -4.0442e-01  2.2810e-02  5.0772e-01\n",
      "  -5.5707e-01  3.4720e-01 -6.4770e-01 -1.7976e-01  2.6612e-01  4.2428e-01\n",
      "   2.8665e-01 -5.0214e-01  1.3579e-01 -3.8311e-01  2.4349e-01 -2.8351e-01\n",
      "   1.0629e+00 -5.0060e-01 -3.3632e+00  1.3890e-01 -2.0810e-01 -5.2862e-01\n",
      "   4.3106e-01 -3.3354e-01  3.0532e-01  2.7068e-01 -2.6090e-01 -1.7400e-03\n",
      "  -1.4553e-01  6.4803e-01  5.4891e-01  3.8058e-01 -7.0841e-01 -3.6602e-01\n",
      "  -5.9000e-04 -3.7480e-02 -8.3028e-01  2.9500e-02  2.9061e-01 -2.2790e-01\n",
      "  -3.3814e-01  1.1887e-01 -4.5499e-01 -1.9092e-01 -5.2580e-02  2.6685e-01\n",
      "   1.2333e-01 -7.8160e-02  1.0240e-02  6.1399e-01 -4.9180e-01  4.1462e-01\n",
      "   7.0913e-01  5.3530e-02  3.8710e-02  1.5684e-01  6.0437e-01 -3.2227e-01\n",
      "  -2.3730e-02  1.2272e-01 -5.2110e-02  2.1848e-01 -6.6576e-01 -2.8324e-01\n",
      "   4.5505e-01  1.4103e-01]\n",
      " [ 1.8220e-02 -1.2320e-02  3.5570e-02  2.4232e-01 -1.6069e-01  5.2370e-01\n",
      "   4.4601e-01  1.2796e-01 -3.9654e-01 -5.5359e-01 -4.2493e-01 -5.1860e-01\n",
      "  -4.7980e-01  1.3340e-01 -2.0100e-02  1.1240e-02 -1.6348e-01 -6.4610e-02\n",
      "  -2.1307e-01  1.8213e-01 -5.0680e-02 -4.7000e-02  2.6059e-01  2.6835e-01\n",
      "   5.6720e-02  1.2509e+00 -2.3720e-01  8.2910e-02  1.9489e-01 -1.5868e-01\n",
      "  -3.0604e-01 -1.7661e-01  1.5100e-03  3.6496e-01  2.2036e-01  6.2268e-01\n",
      "  -4.1441e-01  9.6560e-02 -4.3800e-03  2.7042e-01  2.5475e-01 -5.5140e-02\n",
      "   1.1192e-01  1.9500e-01  2.8769e-01 -1.1948e-01  4.3597e-01  9.1970e-02\n",
      "  -1.5433e-01  8.4400e-02 -1.3209e-01  2.4921e-01 -1.4751e-01  3.8310e-02\n",
      "   6.5670e-02  1.9684e-01 -1.9819e-01  5.0040e-02  3.4048e-01 -1.3061e-01\n",
      "  -2.6501e-01 -3.0854e-01 -5.8837e-01 -2.3073e-01  2.6360e-02 -3.4728e-01\n",
      "  -4.9131e-01  9.0290e-02  2.9080e-02  1.0076e-01  3.4970e-02  1.4593e-01\n",
      "  -6.1770e-02 -8.7700e-03  3.0884e-01  5.5880e-02  1.8971e-01 -8.0790e-02\n",
      "   5.9900e-03  3.2556e-01  2.7673e-01  1.2172e-01  3.9949e-01  2.8788e-01\n",
      "   6.4106e-01  3.3606e-01 -3.4630e-02 -1.8203e-01  8.4210e-02  1.4810e-02\n",
      "  -1.1287e-01 -2.0120e-01 -3.3092e-01  2.4928e-01  6.5860e-02 -4.7620e-02\n",
      "   4.6902e-01  3.9605e-01 -6.9310e-02 -2.5040e-01 -2.0841e-01 -1.7133e-01\n",
      "   5.2570e-02 -1.7911e-01  2.3310e-01 -5.5960e-02  7.2840e-02  2.3318e-01\n",
      "   2.1811e-01  5.2048e-01 -4.5084e-01  3.8680e-02  2.6486e-01  8.5314e-01\n",
      "  -5.1592e-01 -9.2950e-02 -1.7601e-01 -2.0314e-01  4.6082e-01  3.8613e-01\n",
      "   1.2586e-01  1.8592e-01 -6.6800e-03 -1.4622e-01  2.4550e-02 -4.0889e-01\n",
      "   3.0090e-02 -3.1515e-01 -4.9889e-01  6.9620e-02 -5.5280e-02 -5.7160e-02\n",
      "   1.8020e-02  6.0406e-01 -2.0548e-01  1.1210e-02  1.9596e-01 -1.2695e-01\n",
      "  -2.0460e-02  4.5135e-01 -2.8600e-03 -7.0730e-02  4.8038e-01  1.2599e-01\n",
      "  -2.3355e-01  1.3648e-01  2.1576e-01  5.2709e-01  4.8783e-01  7.7490e-02\n",
      "   4.7081e-01  9.0560e-02 -5.7548e+00  1.4570e-01 -5.4860e-02 -3.3638e-01\n",
      "  -8.1190e-02 -7.1480e-02  1.9461e-01  1.6298e-01 -2.4587e-01 -8.1900e-03\n",
      "  -9.6380e-02  3.0896e-01  1.6521e-01  4.5220e-01 -2.5568e-01  1.7678e-01\n",
      "   2.1908e-01  2.6869e-01  1.2103e-01 -2.5415e-01  2.4167e-01  1.7522e-01\n",
      "  -4.4715e-01 -1.6270e-01 -2.4524e-01 -1.7461e-01  1.5330e-01 -1.0728e-01\n",
      "  -3.1391e-01 -1.6711e-01  7.8060e-02  4.5060e-02  8.8000e-04 -4.2077e-01\n",
      "  -2.9744e-01 -4.1303e-01 -5.0349e-01 -1.8497e-01 -3.3904e-01 -6.1350e-02\n",
      "   1.2878e+00 -3.1205e-01  2.6783e-01 -7.5880e-02 -3.8390e-01 -2.6446e-01\n",
      "  -2.9350e-01 -1.0448e-01]\n",
      " [ 3.7087e-01 -3.4060e-02  3.3000e-04 -1.8389e-01  2.2794e-01  2.0965e-01\n",
      "   7.4248e-01 -3.0866e-01 -1.4809e-01 -2.1400e-02 -3.0605e-01 -5.4823e-01\n",
      "   6.7630e-02  2.2424e-01  4.8527e-01 -8.9350e-02  4.0677e-01  2.5802e-01\n",
      "  -9.1170e-02 -8.9600e-03  2.9260e-02  4.3395e-01  1.4841e-01  2.8991e-01\n",
      "   1.9785e-01 -9.2075e-01 -3.7371e-01 -3.2560e-02 -1.2435e-01 -7.4065e-01\n",
      "  -3.8396e-01  3.3432e-01 -4.9778e-01  2.3016e-01 -2.8207e-01  5.1818e-01\n",
      "  -3.3727e-01 -2.8737e-01  1.5692e-01 -7.2280e-02  1.0672e+00  2.3824e-01\n",
      "  -2.2747e-01 -2.4125e-01 -2.5044e-01  1.3125e-01  5.1741e-01  5.2454e-01\n",
      "   2.5860e-02 -3.1480e-02  2.2724e-01  7.8231e-01 -6.1430e-02 -9.7660e-02\n",
      "   4.3295e-01  1.2709e-01  6.9190e-02  1.6998e-01 -3.1931e-01 -6.2134e-01\n",
      "   1.8392e-01  3.0651e-01 -2.3026e-01 -2.3297e-01  8.7327e-01  2.7134e-01\n",
      "  -1.4797e-01  1.0542e-01 -3.1460e-02  3.5450e-01 -1.6340e-01  4.4132e-01\n",
      "  -5.2407e-01  2.7144e-01  5.1571e-01  3.1858e-01 -1.4359e-01 -1.8879e-01\n",
      "   1.6982e-01  5.1536e-01  5.4072e-01 -1.4671e-01  3.9128e-01  3.7810e-02\n",
      "   6.3398e-01  8.6280e-01  7.6680e-01 -5.1062e-01  1.5350e-01 -5.9160e-02\n",
      "  -3.1362e-01 -1.5462e-01 -1.5030e-02  4.7495e-01 -2.8828e-01  4.7096e-01\n",
      "  -3.2631e-01 -2.3616e-01  1.4230e-01 -3.6700e-03 -2.7000e-04 -2.8296e-01\n",
      "  -4.1570e-02 -2.4000e-04  1.9294e-01  1.0403e-01 -2.9949e-01  2.8234e-01\n",
      "  -1.2219e-01  1.9245e-01 -2.5432e-01 -4.1430e-02  1.3516e-01  2.3573e-01\n",
      "  -2.7800e-02  3.2008e-01 -3.3844e-01  4.0758e-01  2.5231e-01  2.1899e-01\n",
      "  -7.2860e-02 -1.4326e-01  6.6647e-01 -5.3111e-01 -7.6418e-01  1.9965e-01\n",
      "   7.3700e-02  1.0550e-01  9.9110e-01  1.6235e-01 -7.4750e-02  1.6036e-01\n",
      "   9.4540e-02  1.1412e-01 -2.4189e-01 -9.6530e-02 -2.2079e-01 -2.6530e-01\n",
      "   1.7305e-01 -1.5775e-01 -2.7476e-01  5.9206e-01 -2.3880e-02  1.8140e-02\n",
      "  -5.1266e-01  5.8560e-01 -5.5016e-01 -1.3605e+00 -1.5158e-01 -4.5636e-01\n",
      "   4.1283e-01  3.1938e-01 -3.6116e+00  8.3170e-02  4.4590e-01 -4.2618e-01\n",
      "   4.4653e-01 -3.3532e-01  7.9514e-01 -3.4658e-01 -2.3813e-01  7.7300e-03\n",
      "  -5.9994e-01  5.6429e-01  2.8432e-01  2.6924e-01 -1.5473e-01 -3.7892e-01\n",
      "   3.2800e-03 -5.1353e-01  7.1127e-01 -1.3242e-01  3.2962e-01 -1.0351e-01\n",
      "   3.6173e-01 -2.9468e-01  1.9413e-01 -8.0230e-02 -5.0802e-01 -3.1099e-01\n",
      "   3.5829e-01 -6.9850e-02  1.1236e-01 -8.9040e-02  1.5951e-01  1.1655e-01\n",
      "  -4.1495e-01 -1.6177e-01 -2.3313e-01 -3.9601e-01 -3.3471e-01 -2.0138e-01\n",
      "   6.4860e-01 -3.3675e-01  4.8364e-01  2.4796e-01 -1.4066e-01  5.1163e-01\n",
      "  -4.6942e-01 -1.2386e-01]\n",
      " [ 4.3442e-01  5.0226e-01 -4.1064e-01 -4.2405e-01 -2.9814e-01 -7.8270e-01\n",
      "   7.6556e-01  5.3670e-02 -2.1730e-02 -1.6816e-01  6.4103e-01 -2.5034e-01\n",
      "  -4.0867e-01  1.5680e-02  7.6150e-02  1.5031e-01 -3.2080e-02 -3.7290e-02\n",
      "   6.0880e-02 -1.7246e-01  3.8620e-02  9.9030e-02 -4.4479e-01  8.2848e-01\n",
      "  -3.5776e-01  1.2012e+00  2.3072e-01  1.1198e+00  3.4225e-01 -1.4301e-01\n",
      "  -2.5660e-01 -2.1523e-01 -4.3008e-01  4.4090e-01  8.8600e-02 -1.2915e-01\n",
      "   2.3271e-01  3.8244e-01 -2.7100e-03  1.8279e-01  2.3960e-01 -9.6570e-02\n",
      "  -5.1277e-01 -9.4030e-02  8.9660e-02  2.5550e-02 -2.3797e-01  9.0810e-02\n",
      "   3.2931e-01  6.4004e-01  1.1203e-01  1.8879e-01  2.7774e-01 -4.2337e-01\n",
      "   3.2654e-01 -2.0310e-01 -5.3112e-01  2.1773e-01  2.2367e-01  5.1023e-01\n",
      "   1.0487e-01  1.8152e-01  8.2025e-01 -3.2940e-02  6.1700e-01  1.7755e-01\n",
      "   1.0564e-01  1.2133e-01  2.5960e-01  4.1067e-01 -8.6350e-02  1.5145e-01\n",
      "   2.6745e-01  4.9018e-01 -8.2860e-02  1.8141e-01 -3.8704e-01 -6.5728e-01\n",
      "  -4.6171e-01 -2.2350e-01 -2.0830e-01  3.3884e-01  9.1115e-01 -7.1500e-02\n",
      "   4.1258e-01 -5.5680e-02 -1.2006e-01  2.5039e-01 -2.6793e-01  6.2450e-01\n",
      "   2.4791e-01 -3.1988e-01  8.0549e-01  3.7086e-01 -3.0725e-01 -4.6262e-01\n",
      "  -7.9060e-02  6.7983e-01 -2.5110e-01  2.6342e-01  2.3112e-01 -1.4796e-01\n",
      "  -3.8264e-01  2.6998e-01  4.0238e-01 -2.9967e-01  4.0344e-01  2.2012e-01\n",
      "   5.2905e-01 -2.8117e-01 -7.8450e-02 -3.0871e-01 -4.1030e-01 -4.0903e-01\n",
      "   4.7077e-01  2.9568e-01 -1.6106e-01  1.6344e-01 -2.2990e-02  1.9128e-01\n",
      "  -5.3510e-01  4.8514e-01 -3.7318e-01  1.2416e-01  7.0679e-01 -3.7863e-01\n",
      "  -1.9908e-01 -1.6436e-01  3.1457e-01  2.8584e-01 -7.3591e-01 -7.8980e-02\n",
      "   3.0586e-01  3.2865e-01  7.1960e-02 -5.0146e-01  1.7432e-01  3.2281e-01\n",
      "  -1.0837e-01 -3.1410e-02 -3.3357e-01 -9.4721e-01 -8.5990e-02  1.9547e-01\n",
      "  -1.5590e-01 -1.8794e-01 -2.5449e-01  2.0032e-01 -3.3817e-01 -2.6920e-01\n",
      "  -4.0816e-01  4.1616e-01 -4.9182e+00  3.5094e-01 -1.1073e-01 -2.5750e-02\n",
      "  -2.6000e-01 -4.3830e-02  7.0720e-02  7.5252e-01 -2.3700e-02 -1.8036e-01\n",
      "   4.1708e-01  5.7610e-02 -3.4190e-02 -5.0522e-01  3.7549e-01 -5.1220e-02\n",
      "  -6.3328e-01  9.1400e-03  6.8545e-01 -4.1887e-01 -1.1870e-01 -6.5717e-01\n",
      "  -2.0839e-01 -3.5581e-01  5.1920e-02 -3.0620e-01 -3.4899e-01 -2.6279e-01\n",
      "   4.4244e-01 -1.0233e-01  2.8953e-01  6.2690e-02 -2.1210e-02  6.4100e-02\n",
      "   2.1587e-01  4.6294e-01  3.3626e-01 -3.4550e-02 -6.9560e-02  2.5814e-01\n",
      "  -2.4130e-01 -1.9410e-01 -1.3967e-01 -1.4185e-01 -7.7450e-02 -1.5415e-01\n",
      "   6.2120e-02 -5.9000e-03]\n",
      " [-9.7510e-02  2.4526e-01  1.7084e-01 -2.0991e-01  5.5590e-02  5.8940e-02\n",
      "   9.5603e-01  2.6290e-01 -1.2684e-01 -2.4957e-01  1.5020e-02 -3.5145e-01\n",
      "  -1.0417e-01 -7.2433e-01 -5.8128e-01 -2.6872e-01  3.0070e-02  4.0721e-01\n",
      "  -3.8930e-02 -3.8901e-01 -1.2890e-02  3.4512e-01 -1.9783e-01 -3.6998e-01\n",
      "   6.0940e-02  1.7683e-01 -3.7806e-01 -6.9905e-01 -1.3500e-03 -1.7152e-01\n",
      "   1.4025e-01  3.8800e-03 -1.1743e-01  1.2699e-01 -1.1055e-01  4.8377e-01\n",
      "  -3.8910e-02 -1.5947e-01  1.5850e-02  3.9055e-01  3.7302e-01  7.5008e-01\n",
      "   9.3298e-01 -5.6325e-01 -2.0994e-01  1.8921e-01  6.3210e-02  6.6286e-01\n",
      "  -5.4838e-01  2.7648e-01 -3.0545e-01 -2.5727e-01  7.0100e-03  3.1144e-01\n",
      "   4.7130e-02  7.3435e-01 -1.7684e-01 -5.1402e-01  1.1841e-01 -6.5880e-02\n",
      "   1.7600e-03 -1.7268e-01  2.6640e-02  2.3855e-01  2.7390e-01 -7.7690e-02\n",
      "   7.0070e-01 -3.6035e-01  1.0065e-01 -7.9909e-01  8.8180e-02  1.9481e-01\n",
      "   3.5353e-01  2.4139e-01  2.1911e-01  3.2488e-01  3.5985e-01 -5.2180e-02\n",
      "  -1.3117e-01  4.0763e-01  1.5363e-01 -4.6952e-01  2.9573e-01  7.5094e-01\n",
      "   3.7866e-01  1.7391e-01  7.1420e-02 -4.4847e-01  5.9805e-01 -3.9113e-01\n",
      "   2.9577e-01  2.8976e-01 -6.3648e-01  2.3440e-01  6.2456e-01  2.1080e-02\n",
      "   1.2116e-01  1.5924e-01  6.2760e-02  5.6640e-02 -2.0906e-01 -6.2080e-01\n",
      "   4.8161e-01  4.3962e-01 -5.8975e-01  2.8537e-01  4.4857e-01 -7.3340e-02\n",
      "   1.1966e-01 -1.2679e-01  4.2761e-01 -6.0372e-01 -1.7360e-01  3.6281e-01\n",
      "  -4.5680e-02 -2.8863e-01 -2.3458e-01 -2.5355e-01  2.5394e-01 -3.7350e-01\n",
      "   6.0034e-01  5.5650e-02 -4.8060e-01 -1.6313e-01  2.0267e-01  2.5392e-01\n",
      "  -5.7007e-01  2.7390e-02  5.8921e-01 -5.6660e-02  5.0104e-01 -3.3519e-01\n",
      "  -1.6502e-01  3.9442e-01 -3.7434e-01 -3.8373e-01 -8.4240e-02 -1.4613e-01\n",
      "  -1.0059e-01  5.8789e-01 -5.2100e-02  4.7420e-01  2.4920e-02 -6.5820e-02\n",
      "  -4.5724e-01  3.8447e-01  4.1307e-01 -3.5651e-01  1.9354e-01 -6.6140e-02\n",
      "   5.6144e-01  2.7957e-01 -4.4870e+00  3.8873e-01 -8.7880e-02 -8.8794e-01\n",
      "  -4.9406e-01  7.0250e-02  2.9457e-01 -3.3307e-01 -3.6950e-02 -2.9837e-01\n",
      "  -8.5400e-03  9.1100e-02  3.0016e-01  4.1949e-01  1.5830e-02  4.4375e-01\n",
      "  -2.3506e-01 -2.3450e-02 -4.9286e-01  2.9928e-01 -1.3740e-01 -4.6985e-01\n",
      "  -1.7537e-01 -5.7665e-01 -2.8794e-01 -7.5710e-02  5.1970e-02  4.0027e-01\n",
      "  -3.7257e-01  1.7821e-01 -9.8500e-02 -1.9815e-01 -1.4321e-01  1.6358e-01\n",
      "  -2.5229e-01  3.5216e-01  7.0696e-01  2.8015e-01 -3.0260e-02 -4.7519e-01\n",
      "   6.5090e-02 -4.4639e-01  3.1535e-01 -2.7552e-01  6.3200e-02  3.5939e-01\n",
      "  -4.0050e-02  2.9846e-01]]\n"
     ]
    }
   ],
   "source": [
    "print(embeds)"
   ]
  },
  {
   "cell_type": "code",
   "execution_count": 24,
   "id": "3ab3368c",
   "metadata": {},
   "outputs": [],
   "source": [
    "word = 'flight'"
   ]
  },
  {
   "cell_type": "code",
   "execution_count": 25,
   "id": "05b2f121",
   "metadata": {},
   "outputs": [],
   "source": [
    "embed = ge.embed_str(word)"
   ]
  },
  {
   "cell_type": "code",
   "execution_count": 26,
   "id": "d7769a18",
   "metadata": {
    "scrolled": true
   },
   "outputs": [
    {
     "data": {
      "text/plain": [
       "array([-1.6572e-01, -8.3950e-02,  2.2570e-02,  3.9720e-02,  3.0814e-01,\n",
       "        1.7639e-01,  2.8357e-01,  5.5700e-03, -9.5600e-03,  1.4846e-01,\n",
       "        4.8067e-01,  2.5237e-01, -4.3009e-01,  1.6862e-01,  1.2911e-01,\n",
       "       -5.9924e-01, -1.3999e-01,  4.9635e-01, -8.2510e-02, -2.6530e-01,\n",
       "       -2.1277e-01, -2.2453e-01,  3.0011e-01, -2.8075e-01,  5.1310e-02,\n",
       "        1.0421e+00, -6.7080e-02, -5.7052e-01,  8.7370e-02, -4.3915e-01,\n",
       "       -8.1000e-03,  5.2400e-03,  2.6832e-01, -6.5057e-01, -6.3500e-02,\n",
       "        6.0998e-01, -7.6290e-01,  1.5033e-01,  9.2465e-01,  1.2769e-01,\n",
       "       -3.1095e-01,  2.4462e-01,  9.2752e-01, -9.8065e-01,  3.0698e-01,\n",
       "       -9.4610e-01, -1.6245e-01, -2.9793e-01,  4.7237e-01,  3.2092e-01,\n",
       "       -2.7117e-01, -4.8036e-01,  1.8380e-02, -1.4158e-01, -3.4337e-01,\n",
       "        1.1486e-01,  2.1472e-01,  7.0729e-01, -2.4157e-01, -2.1553e-01,\n",
       "        3.9954e-01,  4.6465e-01,  4.1700e-01,  2.0390e-01, -3.0071e-01,\n",
       "        1.1968e-01,  2.6760e-01,  1.3740e-02,  3.3544e-01, -8.0908e-01,\n",
       "       -1.9069e-01,  2.4530e-01, -5.8880e-02, -8.7979e-01,  9.5020e-01,\n",
       "       -1.7699e-01, -2.2566e-01,  1.2184e-01,  5.2940e-01,  1.7246e-01,\n",
       "        9.9000e-03, -3.0838e-01,  8.4287e-01,  1.3554e-01, -6.7430e-02,\n",
       "       -2.9450e-01,  4.0472e-01,  2.9600e-02,  2.9183e-01,  3.7226e-01,\n",
       "        4.7130e-02, -5.7256e-01, -4.4654e-01, -4.7700e-03, -2.1558e-01,\n",
       "       -1.8263e-01,  3.7504e-01, -2.8365e-01, -6.9789e-01, -2.0536e-01,\n",
       "        1.7530e-01, -3.8883e-01, -5.7182e-01,  7.2660e-02, -4.5191e-01,\n",
       "       -3.4966e-01,  3.9976e-01, -3.3020e-02,  1.1417e-01,  1.4257e-01,\n",
       "       -1.4591e-01, -2.0860e-02, -4.2309e-01,  5.8536e-01,  2.2284e-01,\n",
       "       -8.6722e-01, -2.7132e-01, -3.7823e-01,  6.1125e-01,  7.5074e-01,\n",
       "        1.0451e+00,  2.6340e-02, -4.8420e-02, -3.3800e-03, -1.2824e-01,\n",
       "        4.0620e-01, -7.9040e-02,  3.2437e-01, -3.6623e-01,  5.5756e-01,\n",
       "        4.6780e-01, -3.9125e-01,  1.1790e-01, -1.8556e-01, -2.9150e-02,\n",
       "       -4.0442e-01,  2.2810e-02,  5.0772e-01, -5.5707e-01,  3.4720e-01,\n",
       "       -6.4770e-01, -1.7976e-01,  2.6612e-01,  4.2428e-01,  2.8665e-01,\n",
       "       -5.0214e-01,  1.3579e-01, -3.8311e-01,  2.4349e-01, -2.8351e-01,\n",
       "        1.0629e+00, -5.0060e-01, -3.3632e+00,  1.3890e-01, -2.0810e-01,\n",
       "       -5.2862e-01,  4.3106e-01, -3.3354e-01,  3.0532e-01,  2.7068e-01,\n",
       "       -2.6090e-01, -1.7400e-03, -1.4553e-01,  6.4803e-01,  5.4891e-01,\n",
       "        3.8058e-01, -7.0841e-01, -3.6602e-01, -5.9000e-04, -3.7480e-02,\n",
       "       -8.3028e-01,  2.9500e-02,  2.9061e-01, -2.2790e-01, -3.3814e-01,\n",
       "        1.1887e-01, -4.5499e-01, -1.9092e-01, -5.2580e-02,  2.6685e-01,\n",
       "        1.2333e-01, -7.8160e-02,  1.0240e-02,  6.1399e-01, -4.9180e-01,\n",
       "        4.1462e-01,  7.0913e-01,  5.3530e-02,  3.8710e-02,  1.5684e-01,\n",
       "        6.0437e-01, -3.2227e-01, -2.3730e-02,  1.2272e-01, -5.2110e-02,\n",
       "        2.1848e-01, -6.6576e-01, -2.8324e-01,  4.5505e-01,  1.4103e-01])"
      ]
     },
     "execution_count": 26,
     "metadata": {},
     "output_type": "execute_result"
    }
   ],
   "source": [
    "embed"
   ]
  },
  {
   "cell_type": "code",
   "execution_count": 53,
   "id": "9a54e007",
   "metadata": {
    "scrolled": false
   },
   "outputs": [
    {
     "name": "stdout",
     "output_type": "stream",
     "text": [
      "6.20436\n",
      "4.90592\n",
      "5.98936\n",
      "5.84511\n",
      "5.65562\n",
      "[[['flight', 0.0], ['plane', 4.45689], ['flights', 5.32675], ['boarding', 5.4882], ['airline', 5.58355], ['jet', 5.59065], ['flying', 5.59299], ['heading', 5.6417], ['arrival', 5.70659], ['airlines', 5.85213], ['travel', 5.89098], ['shuttle', 5.90023], ['delayed', 5.91624], ['landing', 5.92666], ['route', 5.96298], ['airplane', 6.00258], ['safe', 6.00877], ['booking', 6.01374], ['fly', 6.02409], ['departure', 6.04052], ['waiting', 6.04259], ['landed', 6.09697], ['journey', 6.12156], ['passengers', 6.12345], ['transit', 6.12451], ['delay', 6.13663], ['crew', 6.14757], ['pilot', 6.17311], ['trip', 6.18669], ['taxi', 6.20436]], [['good', 0.0], ['great', 3.64107], ['well', 3.96383], ['nice', 4.00469], ['better', 4.19665], ['night', 4.30113], ['bad', 4.34788], ['morning', 4.43596], ['way', 4.52146], ['hope', 4.54451], ['but', 4.55671], ['too', 4.57775], ['really', 4.60558], ['right', 4.68877], ['though', 4.69955], ['there', 4.70148], ['day', 4.70444], ['luck', 4.7177], ['sure', 4.76147], ['it', 4.76949], ['thing', 4.78543], ['pretty', 4.81795], ['think', 4.83542], ['have', 4.84457], ['all', 4.85276], ['yes', 4.86179], ['very', 4.89081], ['again', 4.9018], ['work', 4.90492], ['yeah', 4.90592]], [['terrible', 0.0], ['horrible', 2.8716], ['awful', 4.31316], ['bad', 5.24022], ['brutal', 5.35858], ['idea', 5.45579], ['horrendous', 5.49845], ['horrid', 5.56903], ['shitty', 5.58304], ['quite', 5.59716], ['worst', 5.631], ['similar', 5.64538], ['shame', 5.67322], ['worse', 5.71411], ['crap', 5.73043], ['actual', 5.73712], ['horrific', 5.78009], ['bloody', 5.78166], ['ridiculous', 5.80851], ['such', 5.82791], ['atrocious', 5.86491], ['dreadful', 5.87343], ['sick', 5.88777], ['wtf', 5.89628], ['fucking', 5.9003], ['cruel', 5.90768], ['seriously', 5.93984], ['unreal', 5.94033], ['mess', 5.97906], ['however', 5.98936]], [['help', 0.0], ['need', 4.66871], ['helping', 4.71355], ['please', 4.8564], ['pls', 5.26437], ['let', 5.27073], ['us', 5.33329], ['give', 5.35559], ['trying', 5.3827], ['can', 5.39777], ['helps', 5.40568], ['must', 5.42209], ['tell', 5.54717], ['find', 5.55147], ['could', 5.5624], ['plz', 5.58522], ['helped', 5.62169], ['support', 5.6628], ['anyone', 5.68027], ['should', 5.74155], ['save', 5.74649], ['take', 5.75843], ['want', 5.76772], ['bring', 5.79499], ['maybe', 5.80615], ['lets', 5.81187], ['seriously', 5.81942], ['able', 5.81981], ['here', 5.82526], ['needs', 5.84511]], [['late', 0.0], ['early', 4.00205], ['earlier', 5.09402], ['usual', 5.10465], ['after', 5.28243], ['again', 5.28409], ['saturday', 5.29169], ['afternoon', 5.30979], ['hour', 5.31787], ['guess', 5.33142], ['missed', 5.36901], ['work', 5.37432], ['hours', 5.38573], ['sunday', 5.40189], ['since', 5.41431], ['night', 5.41858], ['anyway', 5.45233], ['yesterday', 5.49731], ['last', 5.49978], ['maybe', 5.50156], ['yet', 5.51821], ['monday', 5.53958], ['wait', 5.55033], ['either', 5.55333], ['mins', 5.56436], ['wake', 5.59768], ['before', 5.60765], ['thursday', 5.61733], ['hopefully', 5.63757], ['friday', 5.65562]]]\n"
     ]
    }
   ],
   "source": [
    "array = []\n",
    "for word in embeds:\n",
    "    a = ge.find_k_nearest(word, 30)\n",
    "    print(a[29][1])\n",
    "    array.append(a)\n",
    "print(array)    \n"
   ]
  },
  {
   "cell_type": "code",
   "execution_count": 100,
   "id": "b5fed385",
   "metadata": {},
   "outputs": [
    {
     "name": "stdout",
     "output_type": "stream",
     "text": [
      "[[0.0, 4.45689, 5.32675, 5.4882, 5.58355, 5.59065, 5.59299, 5.6417, 5.70659, 5.85213, 5.89098, 5.90023, 5.91624, 5.92666, 5.96298, 6.00258, 6.00877, 6.01374, 6.02409, 6.04052, 6.04259, 6.09697, 6.12156, 6.12345, 6.12451, 6.13663, 6.14757, 6.17311, 6.18669, 6.20436], [0.0, 3.64107, 3.96383, 4.00469, 4.19665, 4.30113, 4.34788, 4.43596, 4.52146, 4.54451, 4.55671, 4.57775, 4.60558, 4.68877, 4.69955, 4.70148, 4.70444, 4.7177, 4.76147, 4.76949, 4.78543, 4.81795, 4.83542, 4.84457, 4.85276, 4.86179, 4.89081, 4.9018, 4.90492, 4.90592], [0.0, 2.8716, 4.31316, 5.24022, 5.35858, 5.45579, 5.49845, 5.56903, 5.58304, 5.59716, 5.631, 5.64538, 5.67322, 5.71411, 5.73043, 5.73712, 5.78009, 5.78166, 5.80851, 5.82791, 5.86491, 5.87343, 5.88777, 5.89628, 5.9003, 5.90768, 5.93984, 5.94033, 5.97906, 5.98936], [0.0, 4.66871, 4.71355, 4.8564, 5.26437, 5.27073, 5.33329, 5.35559, 5.3827, 5.39777, 5.40568, 5.42209, 5.54717, 5.55147, 5.5624, 5.58522, 5.62169, 5.6628, 5.68027, 5.74155, 5.74649, 5.75843, 5.76772, 5.79499, 5.80615, 5.81187, 5.81942, 5.81981, 5.82526, 5.84511], [0.0, 4.00205, 5.09402, 5.10465, 5.28243, 5.28409, 5.29169, 5.30979, 5.31787, 5.33142, 5.36901, 5.37432, 5.38573, 5.40189, 5.41431, 5.41858, 5.45233, 5.49731, 5.49978, 5.50156, 5.51821, 5.53958, 5.55033, 5.55333, 5.56436, 5.59768, 5.60765, 5.61733, 5.63757, 5.65562]]\n"
     ]
    }
   ],
   "source": [
    "array_words = []\n",
    "for word in embeds:\n",
    "   # print(ge.find_k_nearest(word, 30))\n",
    "    re = ge.find_k_nearest(word, 30)\n",
    "    array_words.append([w[1] for w in re])\n",
    "print(array_words)"
   ]
  },
  {
   "cell_type": "code",
   "execution_count": 101,
   "id": "5683907d",
   "metadata": {},
   "outputs": [],
   "source": [
    "from sklearn.decomposition import PCA"
   ]
  },
  {
   "cell_type": "code",
   "execution_count": 105,
   "id": "b34e2be5",
   "metadata": {},
   "outputs": [],
   "source": [
    "model_pca = PCA(n_components=2, svd_solver='full')"
   ]
  },
  {
   "cell_type": "code",
   "execution_count": 106,
   "id": "15ea7441",
   "metadata": {},
   "outputs": [],
   "source": [
    "Xt = model_pca.fit(array_words)"
   ]
  },
  {
   "cell_type": "code",
   "execution_count": 107,
   "id": "32b55337",
   "metadata": {},
   "outputs": [
    {
     "data": {
      "image/png": "[encoded data removed]",
      "text/plain": [
       "<Figure size 432x288 with 1 Axes>"
      ]
     },
     "metadata": {
      "needs_background": "light"
     },
     "output_type": "display_data"
    }
   ],
   "source": [
    "import seaborn as sns\n",
    "category_vectors = Xt.components_.T\n",
    "category_vector_frame=pd.DataFrame(category_vectors, index=['1', '2', '3', '4', '5', '6', '7', '8', '9', '10', '11', '12', '13', '14', \n",
    "                                                           '15', '16', '17', '18', '19', '20', '21', '22', '23', '24', '25', '26', '27', '28',\n",
    "                                                           '29', '30'], \n",
    "                                   columns=['col1', 'col2']).reset_index()\n",
    "sns.scatterplot(data=category_vector_frame, x='col1', y='col2');"
   ]
  },
  {
   "cell_type": "code",
   "execution_count": 109,
   "id": "02f450af",
   "metadata": {},
   "outputs": [
    {
     "data": {
      "text/plain": [
       "array([[ 3.33066907e-16,  1.11022302e-16],\n",
       "       [-6.48699330e-02, -9.10128111e-01],\n",
       "       [-1.59500773e-01, -3.85712208e-01],\n",
       "       [-2.13063760e-01,  6.39176673e-02],\n",
       "       [-2.05389937e-01, -1.77741646e-02],\n",
       "       [-1.93844212e-01,  3.43536223e-02],\n",
       "       [-1.89867793e-01,  4.00482166e-02],\n",
       "       [-1.84020463e-01,  6.30746653e-02],\n",
       "       [-1.77703902e-01,  5.08869105e-02],\n",
       "       [-1.88763688e-01,  2.57380198e-02],\n",
       "       [-1.92123250e-01,  3.14623432e-02],\n",
       "       [-1.90631821e-01,  3.28378082e-02],\n",
       "       [-1.91689197e-01,  9.66602171e-03],\n",
       "       [-1.81264174e-01,  2.84676727e-02],\n",
       "       [-1.83936273e-01,  2.65130949e-02],\n",
       "       [-1.88180962e-01,  1.59659396e-02],\n",
       "       [-1.90969384e-01,  2.53988635e-02],\n",
       "       [-1.90215454e-01,  9.45755962e-03],\n",
       "       [-1.85778787e-01,  1.77946422e-02],\n",
       "       [-1.88275824e-01,  8.38577571e-03],\n",
       "       [-1.87661926e-01,  2.58500253e-02],\n",
       "       [-1.88222987e-01,  1.50589701e-02],\n",
       "       [-1.88589283e-01,  1.49001209e-02],\n",
       "       [-1.88283271e-01,  1.14958403e-02],\n",
       "       [-1.87479993e-01,  9.39656126e-03],\n",
       "       [-1.87581801e-01,  6.35629775e-03],\n",
       "       [-1.85567958e-01,  1.94589835e-02],\n",
       "       [-1.86244707e-01,  1.38740553e-02],\n",
       "       [-1.88857296e-01,  2.95184537e-02],\n",
       "       [-1.91242030e-01,  2.46048861e-02]])"
      ]
     },
     "execution_count": 109,
     "metadata": {},
     "output_type": "execute_result"
    }
   ],
   "source": [
    "category_vectors = Xt.components_.T\n",
    "category_vectors"
   ]
  },
  {
   "cell_type": "code",
   "execution_count": null,
   "id": "646c2910",
   "metadata": {},
   "outputs": [],
   "source": []
  },
  {
   "cell_type": "code",
   "execution_count": null,
   "id": "33bae088",
   "metadata": {},
   "outputs": [],
   "source": []
  }
 ],
 "metadata": {
  "kernelspec": {
   "display_name": "Python 3 (ipykernel)",
   "language": "python",
   "name": "python3"
  },
  "language_info": {
   "codemirror_mode": {
    "name": "ipython",
    "version": 3
   },
   "file_extension": ".py",
   "mimetype": "text/x-python",
   "name": "python",
   "nbconvert_exporter": "python",
   "pygments_lexer": "ipython3",
   "version": "3.9.7"
  },
  "toc": {
   "base_numbering": 1,
   "nav_menu": {},
   "number_sections": true,
   "sideBar": true,
   "skip_h1_title": false,
   "title_cell": "Table of Contents",
   "title_sidebar": "Contents",
   "toc_cell": true,
   "toc_position": {
    "height": "calc(100% - 180px)",
    "left": "10px",
    "top": "150px",
    "width": "165px"
   },
   "toc_section_display": true,
   "toc_window_display": true
  }
 },
 "nbformat": 4,
 "nbformat_minor": 5
}
